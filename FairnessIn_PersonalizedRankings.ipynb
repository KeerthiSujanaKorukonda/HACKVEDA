{
  "nbformat": 4,
  "nbformat_minor": 0,
  "metadata": {
    "colab": {
      "provenance": []
    },
    "kernelspec": {
      "name": "python3",
      "display_name": "Python 3"
    },
    "language_info": {
      "name": "python"
    }
  },
  "cells": [
    {
      "cell_type": "code",
      "execution_count": 2,
      "metadata": {
        "colab": {
          "base_uri": "https://localhost:8080/"
        },
        "id": "Ex0Oa4vw9T2e",
        "outputId": "1c39a288-fa05-4d40-d8d1-92e2aea9afa5"
      },
      "outputs": [
        {
          "output_type": "stream",
          "name": "stdout",
          "text": [
            "Requirement already satisfied: numpy in /usr/local/lib/python3.10/dist-packages (1.25.2)\n",
            "Requirement already satisfied: pandas in /usr/local/lib/python3.10/dist-packages (2.0.3)\n",
            "Collecting scikit-surprise\n",
            "  Downloading scikit_surprise-1.1.4.tar.gz (154 kB)\n",
            "\u001b[2K     \u001b[90m━━━━━━━━━━━━━━━━━━━━━━━━━━━━━━━━━━━━━━━━\u001b[0m \u001b[32m154.4/154.4 kB\u001b[0m \u001b[31m1.4 MB/s\u001b[0m eta \u001b[36m0:00:00\u001b[0m\n",
            "\u001b[?25h  Installing build dependencies ... \u001b[?25l\u001b[?25hdone\n",
            "  Getting requirements to build wheel ... \u001b[?25l\u001b[?25hdone\n",
            "  Preparing metadata (pyproject.toml) ... \u001b[?25l\u001b[?25hdone\n",
            "Requirement already satisfied: python-dateutil>=2.8.2 in /usr/local/lib/python3.10/dist-packages (from pandas) (2.8.2)\n",
            "Requirement already satisfied: pytz>=2020.1 in /usr/local/lib/python3.10/dist-packages (from pandas) (2023.4)\n",
            "Requirement already satisfied: tzdata>=2022.1 in /usr/local/lib/python3.10/dist-packages (from pandas) (2024.1)\n",
            "Requirement already satisfied: joblib>=1.2.0 in /usr/local/lib/python3.10/dist-packages (from scikit-surprise) (1.4.2)\n",
            "Requirement already satisfied: scipy>=1.6.0 in /usr/local/lib/python3.10/dist-packages (from scikit-surprise) (1.11.4)\n",
            "Requirement already satisfied: six>=1.5 in /usr/local/lib/python3.10/dist-packages (from python-dateutil>=2.8.2->pandas) (1.16.0)\n",
            "Building wheels for collected packages: scikit-surprise\n",
            "  Building wheel for scikit-surprise (pyproject.toml) ... \u001b[?25l\u001b[?25hdone\n",
            "  Created wheel for scikit-surprise: filename=scikit_surprise-1.1.4-cp310-cp310-linux_x86_64.whl size=2357247 sha256=be15074c293b36936019f9b8cb94097a28351fd2050279d3d72466db75dd8dcd\n",
            "  Stored in directory: /root/.cache/pip/wheels/4b/3f/df/6acbf0a40397d9bf3ff97f582cc22fb9ce66adde75bc71fd54\n",
            "Successfully built scikit-surprise\n",
            "Installing collected packages: scikit-surprise\n",
            "Successfully installed scikit-surprise-1.1.4\n"
          ]
        }
      ],
      "source": [
        "pip install numpy pandas scikit-surprise"
      ]
    },
    {
      "cell_type": "code",
      "source": [
        "import numpy as np\n",
        "import pandas as pd\n",
        "from surprise import Dataset, Reader, SVD\n",
        "from surprise.model_selection import train_test_split, cross_validate, GridSearchCV\n",
        "from surprise.accuracy import rmse"
      ],
      "metadata": {
        "id": "T96mFYInB8t6"
      },
      "execution_count": 9,
      "outputs": []
    },
    {
      "cell_type": "code",
      "source": [
        "# Creating a synthetic dataset\n",
        "data = {\n",
        "    'user_id': np.repeat(np.arange(1, 21), 10),\n",
        "    'movie_id': np.tile(np.arange(1, 11), 20),\n",
        "    'rating': np.random.randint(1, 6, size=200),\n",
        "    'user_gender': np.repeat(['M', 'F'], 100),\n",
        "    'movie_genre': np.tile(['Action', 'Sci-Fi', 'Drama', 'Romance', 'Comedy', 'Action', 'Sci-Fi', 'Thriller', 'Comedy', 'Drama'], 20),\n",
        "    'director_gender': np.tile(['M', 'M', 'F', 'F', 'F', 'F', 'F', 'M', 'M', 'M'], 20),\n",
        "    'movie_name': np.tile(['Movie A', 'Movie B', 'Movie C', 'Movie D', 'Movie E', 'Movie F', 'Movie G', 'Movie H', 'Movie I', 'Movie J'], 20)\n",
        "}\n",
        "\n",
        "df = pd.DataFrame(data)"
      ],
      "metadata": {
        "id": "KGcv_zJPB_DT"
      },
      "execution_count": 10,
      "outputs": []
    },
    {
      "cell_type": "code",
      "source": [
        "# Preparing the data for the Surprise library\n",
        "reader = Reader(rating_scale=(1, 5))\n",
        "data = Dataset.load_from_df(df[['user_id', 'movie_id', 'rating']], reader)\n",
        "trainset, testset = train_test_split(data, test_size=0.25)"
      ],
      "metadata": {
        "id": "N6cckSuxCDyw"
      },
      "execution_count": 11,
      "outputs": []
    },
    {
      "cell_type": "code",
      "source": [
        "# Hyperparameter tuning for SVD model\n",
        "param_grid = {\n",
        "    'n_factors': [50, 100, 150],\n",
        "    'n_epochs': [20, 30],\n",
        "    'lr_all': [0.005, 0.01, 0.02],\n",
        "    'reg_all': [0.02, 0.1]\n",
        "}\n",
        "gs = GridSearchCV(SVD, param_grid, measures=['rmse'], cv=5)\n",
        "gs.fit(data)"
      ],
      "metadata": {
        "id": "ZiRUp6m2CGTZ"
      },
      "execution_count": 12,
      "outputs": []
    },
    {
      "cell_type": "code",
      "source": [
        "# Best parameters found by GridSearchCV\n",
        "best_params = gs.best_params['rmse']\n",
        "print(f\"Best parameters: {best_params}\")\n",
        "\n",
        "# Training the best SVD model\n",
        "model = SVD(**best_params)\n",
        "model.fit(trainset)\n",
        "predictions = model.test(testset)\n",
        "accuracy = rmse(predictions)\n",
        "print(f'RMSE: {accuracy}')"
      ],
      "metadata": {
        "colab": {
          "base_uri": "https://localhost:8080/"
        },
        "id": "MJW1vqpICItV",
        "outputId": "e05a0dd7-2717-4982-abaa-9918e8067aec"
      },
      "execution_count": 13,
      "outputs": [
        {
          "output_type": "stream",
          "name": "stdout",
          "text": [
            "Best parameters: {'n_factors': 50, 'n_epochs': 20, 'lr_all': 0.005, 'reg_all': 0.1}\n",
            "RMSE: 1.3723\n",
            "RMSE: 1.3723470240850248\n"
          ]
        }
      ]
    },
    {
      "cell_type": "code",
      "source": [
        "# Cross-validation to check accuracy\n",
        "cv_results = cross_validate(model, data, measures=['RMSE'], cv=5, verbose=False)\n",
        "mean_rmse = np.mean(cv_results['test_rmse'])\n",
        "print(f'Cross-validated RMSE: {mean_rmse}')\n"
      ],
      "metadata": {
        "colab": {
          "base_uri": "https://localhost:8080/"
        },
        "id": "j_ccFQjeCK7j",
        "outputId": "1fc4674d-6f1d-458e-a337-68f6a0766a63"
      },
      "execution_count": 14,
      "outputs": [
        {
          "output_type": "stream",
          "name": "stdout",
          "text": [
            "Cross-validated RMSE: 1.4101344117121015\n"
          ]
        }
      ]
    },
    {
      "cell_type": "code",
      "source": [
        "# Function to get top N recommendations\n",
        "def get_top_n(predictions, n=10):\n",
        "    top_n = {}\n",
        "    for uid, iid, true_r, est, _ in predictions:\n",
        "        if uid not in top_n:\n",
        "            top_n[uid] = []\n",
        "        top_n[uid].append((iid, est))\n",
        "\n",
        "    for uid, user_ratings in top_n.items():\n",
        "        user_ratings.sort(key=lambda x: x[1], reverse=True)\n",
        "        top_n[uid] = user_ratings[:n]\n",
        "\n",
        "    return top_n\n",
        "\n",
        "top_n = get_top_n(predictions, n=5)"
      ],
      "metadata": {
        "id": "wUnDk-WQCNA2"
      },
      "execution_count": 16,
      "outputs": []
    },
    {
      "cell_type": "code",
      "source": [
        "# Fairness adjustments\n",
        "def adjust_for_fairness(top_n, df, n=5):\n",
        "    adjusted_recommendations = {}\n",
        "    for user_id, user_recommendations in top_n.items():\n",
        "        user_gender = df[df['user_id'] == user_id]['user_gender'].iloc[0]\n",
        "        female_directed_movies = df[(df['director_gender'] == 'F')]['movie_id'].unique()\n",
        "\n",
        "        adjusted_user_recommendations = []\n",
        "        female_count = 0\n",
        "\n",
        "        for movie_id, rating in user_recommendations:\n",
        "            if movie_id in female_directed_movies and female_count < n//2:\n",
        "                adjusted_user_recommendations.append((movie_id, rating))\n",
        "                female_count += 1\n",
        "            elif movie_id not in female_directed_movies:\n",
        "                adjusted_user_recommendations.append((movie_id, rating))\n",
        "\n",
        "        while len(adjusted_user_recommendations) < n:\n",
        "            for movie_id in female_directed_movies:\n",
        "                if movie_id not in [m[0] for m in adjusted_user_recommendations]:\n",
        "                    adjusted_user_recommendations.append((movie_id, 0))\n",
        "                    if len(adjusted_user_recommendations) >= n:\n",
        "                        break\n",
        "\n",
        "        adjusted_recommendations[user_id] = adjusted_user_recommendations[:n]\n",
        "\n",
        "    return adjusted_recommendations\n",
        "\n",
        "adjusted_top_n = adjust_for_fairness(top_n, df)"
      ],
      "metadata": {
        "id": "3APxIAEVCT0F"
      },
      "execution_count": 17,
      "outputs": []
    },
    {
      "cell_type": "code",
      "source": [
        "# Function to display recommendations\n",
        "def display_recommendations(user_ids, recommendations, df):\n",
        "    for user_id in user_ids:\n",
        "        if user_id in recommendations:\n",
        "            user_name = f\"User {user_id}\"\n",
        "            print(f\"{user_name}'s Recommendations:\")\n",
        "            recs = [(df[df['movie_id'] == movie_id]['movie_name'].values[0],\n",
        "                     df[df['movie_id'] == movie_id]['movie_genre'].values[0],\n",
        "                     df[df['movie_id'] == movie_id]['director_gender'].values[0],\n",
        "                     rating) for movie_id, rating in recommendations[user_id]]\n",
        "            for movie in recs:\n",
        "                print(f\"{movie[0]} ({movie[1]}, {movie[2]} Director)\")\n",
        "            print()\n",
        "        else:\n",
        "            print(f\"User {user_id} has no recommendations.\")\n",
        "\n",
        "# Input list of user IDs\n",
        "user_ids = input(\"Enter a list of user IDs separated by commas: \")\n",
        "user_ids = [int(uid.strip()) for uid in user_ids.split(',')]\n",
        "\n",
        "# Display recommendations for the selected users\n",
        "display_recommendations(user_ids, adjusted_top_n, df)\n"
      ],
      "metadata": {
        "colab": {
          "base_uri": "https://localhost:8080/"
        },
        "id": "OgjJrh57-BcJ",
        "outputId": "930e714e-ebc6-47eb-f7d5-37f7d945e69f"
      },
      "execution_count": 20,
      "outputs": [
        {
          "output_type": "stream",
          "name": "stdout",
          "text": [
            "Enter a list of user IDs separated by commas: 5,9\n",
            "User 5's Recommendations:\n",
            "Movie F (Action, F Director)\n",
            "Movie H (Thriller, M Director)\n",
            "Movie C (Drama, F Director)\n",
            "Movie D (Romance, F Director)\n",
            "Movie E (Comedy, F Director)\n",
            "\n",
            "User 9's Recommendations:\n",
            "Movie B (Sci-Fi, M Director)\n",
            "Movie G (Sci-Fi, F Director)\n",
            "Movie C (Drama, F Director)\n",
            "Movie D (Romance, F Director)\n",
            "Movie E (Comedy, F Director)\n",
            "\n"
          ]
        }
      ]
    }
  ]
}