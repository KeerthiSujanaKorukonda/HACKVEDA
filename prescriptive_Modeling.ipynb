{
  "cells": [
    {
      "cell_type": "code",
      "execution_count": null,
      "id": "e882c631",
      "metadata": {
        "_cell_guid": "b1076dfc-b9ad-4769-8c92-a6c4dae69d19",
        "_uuid": "8f2839f25d086af736a60e9eeb907d3b93b6e0e5",
        "execution": {
          "iopub.execute_input": "2023-07-26T07:58:05.078091Z",
          "iopub.status.busy": "2023-07-26T07:58:05.077207Z",
          "iopub.status.idle": "2023-07-26T07:58:05.102260Z",
          "shell.execute_reply": "2023-07-26T07:58:05.100726Z"
        },
        "papermill": {
          "duration": 0.061328,
          "end_time": "2023-07-26T07:58:05.106053",
          "exception": false,
          "start_time": "2023-07-26T07:58:05.044725",
          "status": "completed"
        },
        "tags": [],
        "id": "e882c631",
        "outputId": "93fce576-69cd-4fd0-f666-529f391477c1"
      },
      "outputs": [
        {
          "name": "stdout",
          "output_type": "stream",
          "text": [
            "/kaggle/input/e-commerce-analysis-uk/data.csv\n"
          ]
        }
      ],
      "source": [
        "# This Python 3 environment comes with many helpful analytics libraries installed\n",
        "# It is defined by the kaggle/python Docker image: https://github.com/kaggle/docker-python\n",
        "# For example, here's several helpful packages to load\n",
        "\n",
        "import numpy as np # linear algebra\n",
        "import pandas as pd # data processing, CSV file I/O (e.g. pd.read_csv)\n",
        "\n",
        "# Input data files are available in the read-only \"../input/\" directory\n",
        "# For example, running this (by clicking run or pressing Shift+Enter) will list all files under the input directory\n",
        "\n",
        "import os\n",
        "for dirname, _, filenames in os.walk('/kaggle/input'):\n",
        "    for filename in filenames:\n",
        "        print(os.path.join(dirname, filename))\n",
        "\n",
        "# You can write up to 20GB to the current directory (/kaggle/working/) that gets preserved as output when you create a version using \"Save & Run All\"\n",
        "# You can also write temporary files to /kaggle/temp/, but they won't be saved outside of the current session"
      ]
    },
    {
      "cell_type": "code",
      "execution_count": null,
      "id": "79b1daf0",
      "metadata": {
        "execution": {
          "iopub.execute_input": "2023-07-26T07:58:05.164601Z",
          "iopub.status.busy": "2023-07-26T07:58:05.163528Z",
          "iopub.status.idle": "2023-07-26T07:58:06.795152Z",
          "shell.execute_reply": "2023-07-26T07:58:06.793764Z"
        },
        "papermill": {
          "duration": 1.661029,
          "end_time": "2023-07-26T07:58:06.797975",
          "exception": false,
          "start_time": "2023-07-26T07:58:05.136946",
          "status": "completed"
        },
        "tags": [],
        "id": "79b1daf0",
        "outputId": "fd3f3e0f-07d5-4bd7-82b3-5d25a2ea4e01"
      },
      "outputs": [
        {
          "name": "stderr",
          "output_type": "stream",
          "text": [
            "/opt/conda/lib/python3.10/site-packages/scipy/__init__.py:146: UserWarning: A NumPy version >=1.16.5 and <1.23.0 is required for this version of SciPy (detected version 1.23.5\n",
            "  warnings.warn(f\"A NumPy version >={np_minversion} and <{np_maxversion}\"\n"
          ]
        }
      ],
      "source": [
        "import pandas as pd\n",
        "import matplotlib.pyplot as plt\n",
        "import seaborn as sns\n",
        "import numpy as np\n",
        "%matplotlib inline"
      ]
    },
    {
      "cell_type": "code",
      "execution_count": null,
      "id": "5860008d",
      "metadata": {
        "execution": {
          "iopub.execute_input": "2023-07-26T07:58:06.851740Z",
          "iopub.status.busy": "2023-07-26T07:58:06.851049Z",
          "iopub.status.idle": "2023-07-26T07:58:06.855418Z",
          "shell.execute_reply": "2023-07-26T07:58:06.854584Z"
        },
        "papermill": {
          "duration": 0.033999,
          "end_time": "2023-07-26T07:58:06.857668",
          "exception": false,
          "start_time": "2023-07-26T07:58:06.823669",
          "status": "completed"
        },
        "tags": [],
        "id": "5860008d"
      },
      "outputs": [],
      "source": [
        "pd.options.mode.chained_assignment = None #turn off the SettingWithCopyWarning warning that is raised\n",
        "#when assigning values to a slice of a DataFrame."
      ]
    },
    {
      "cell_type": "code",
      "execution_count": null,
      "id": "48ae1abb",
      "metadata": {
        "execution": {
          "iopub.execute_input": "2023-07-26T07:58:06.912289Z",
          "iopub.status.busy": "2023-07-26T07:58:06.911833Z",
          "iopub.status.idle": "2023-07-26T07:58:06.918653Z",
          "shell.execute_reply": "2023-07-26T07:58:06.917450Z"
        },
        "papermill": {
          "duration": 0.037625,
          "end_time": "2023-07-26T07:58:06.921049",
          "exception": false,
          "start_time": "2023-07-26T07:58:06.883424",
          "status": "completed"
        },
        "tags": [],
        "id": "48ae1abb"
      },
      "outputs": [],
      "source": [
        "#This code sets some default configurations for Matplotlib plots by updating the rcParams dictionary.\n",
        "plt.rcParams.update(\n",
        "{\"font.size\": 10, \"figure.facecolor\": \"w\", \"axes.facecolor\": \"w\", \"axes.spines.right\": False,\"axes.spines.top\"\n",
        ": False, \"axes.spines.bottom\": False,\n",
        "\"xtick.top\": False,\n",
        "\"xtick.bottom\": False,\n",
        "\"ytick.right\": False,\n",
        "\"ytick.left\": False,\n",
        "}\n",
        ")"
      ]
    },
    {
      "cell_type": "code",
      "execution_count": null,
      "id": "b43826c1",
      "metadata": {
        "execution": {
          "iopub.execute_input": "2023-07-26T07:58:06.973355Z",
          "iopub.status.busy": "2023-07-26T07:58:06.972683Z",
          "iopub.status.idle": "2023-07-26T07:58:08.628729Z",
          "shell.execute_reply": "2023-07-26T07:58:08.627490Z"
        },
        "papermill": {
          "duration": 1.685484,
          "end_time": "2023-07-26T07:58:08.631688",
          "exception": false,
          "start_time": "2023-07-26T07:58:06.946204",
          "status": "completed"
        },
        "tags": [],
        "id": "b43826c1",
        "outputId": "91a0b7ab-f2ff-426d-f8b3-9454b9b41bd7"
      },
      "outputs": [
        {
          "data": {
            "text/html": [
              "<div>\n",
              "<style scoped>\n",
              "    .dataframe tbody tr th:only-of-type {\n",
              "        vertical-align: middle;\n",
              "    }\n",
              "\n",
              "    .dataframe tbody tr th {\n",
              "        vertical-align: top;\n",
              "    }\n",
              "\n",
              "    .dataframe thead th {\n",
              "        text-align: right;\n",
              "    }\n",
              "</style>\n",
              "<table border=\"1\" class=\"dataframe\">\n",
              "  <thead>\n",
              "    <tr style=\"text-align: right;\">\n",
              "      <th></th>\n",
              "      <th>InvoiceNo</th>\n",
              "      <th>StockCode</th>\n",
              "      <th>Description</th>\n",
              "      <th>Quantity</th>\n",
              "      <th>InvoiceDate</th>\n",
              "      <th>UnitPrice</th>\n",
              "      <th>CustomerID</th>\n",
              "      <th>Country</th>\n",
              "    </tr>\n",
              "  </thead>\n",
              "  <tbody>\n",
              "    <tr>\n",
              "      <th>0</th>\n",
              "      <td>536365</td>\n",
              "      <td>85123A</td>\n",
              "      <td>WHITE HANGING HEART T-LIGHT HOLDER</td>\n",
              "      <td>6</td>\n",
              "      <td>12/1/2010 8:26</td>\n",
              "      <td>2.55</td>\n",
              "      <td>17850.0</td>\n",
              "      <td>United Kingdom</td>\n",
              "    </tr>\n",
              "    <tr>\n",
              "      <th>1</th>\n",
              "      <td>536365</td>\n",
              "      <td>71053</td>\n",
              "      <td>WHITE METAL LANTERN</td>\n",
              "      <td>6</td>\n",
              "      <td>12/1/2010 8:26</td>\n",
              "      <td>3.39</td>\n",
              "      <td>17850.0</td>\n",
              "      <td>United Kingdom</td>\n",
              "    </tr>\n",
              "    <tr>\n",
              "      <th>2</th>\n",
              "      <td>536365</td>\n",
              "      <td>84406B</td>\n",
              "      <td>CREAM CUPID HEARTS COAT HANGER</td>\n",
              "      <td>8</td>\n",
              "      <td>12/1/2010 8:26</td>\n",
              "      <td>2.75</td>\n",
              "      <td>17850.0</td>\n",
              "      <td>United Kingdom</td>\n",
              "    </tr>\n",
              "    <tr>\n",
              "      <th>3</th>\n",
              "      <td>536365</td>\n",
              "      <td>84029G</td>\n",
              "      <td>KNITTED UNION FLAG HOT WATER BOTTLE</td>\n",
              "      <td>6</td>\n",
              "      <td>12/1/2010 8:26</td>\n",
              "      <td>3.39</td>\n",
              "      <td>17850.0</td>\n",
              "      <td>United Kingdom</td>\n",
              "    </tr>\n",
              "    <tr>\n",
              "      <th>4</th>\n",
              "      <td>536365</td>\n",
              "      <td>84029E</td>\n",
              "      <td>RED WOOLLY HOTTIE WHITE HEART.</td>\n",
              "      <td>6</td>\n",
              "      <td>12/1/2010 8:26</td>\n",
              "      <td>3.39</td>\n",
              "      <td>17850.0</td>\n",
              "      <td>United Kingdom</td>\n",
              "    </tr>\n",
              "  </tbody>\n",
              "</table>\n",
              "</div>"
            ],
            "text/plain": [
              "  InvoiceNo StockCode                          Description  Quantity  \\\n",
              "0    536365    85123A   WHITE HANGING HEART T-LIGHT HOLDER         6   \n",
              "1    536365     71053                  WHITE METAL LANTERN         6   \n",
              "2    536365    84406B       CREAM CUPID HEARTS COAT HANGER         8   \n",
              "3    536365    84029G  KNITTED UNION FLAG HOT WATER BOTTLE         6   \n",
              "4    536365    84029E       RED WOOLLY HOTTIE WHITE HEART.         6   \n",
              "\n",
              "      InvoiceDate  UnitPrice  CustomerID         Country  \n",
              "0  12/1/2010 8:26       2.55     17850.0  United Kingdom  \n",
              "1  12/1/2010 8:26       3.39     17850.0  United Kingdom  \n",
              "2  12/1/2010 8:26       2.75     17850.0  United Kingdom  \n",
              "3  12/1/2010 8:26       3.39     17850.0  United Kingdom  \n",
              "4  12/1/2010 8:26       3.39     17850.0  United Kingdom  "
            ]
          },
          "execution_count": 5,
          "metadata": {},
          "output_type": "execute_result"
        }
      ],
      "source": [
        "data = pd.read_csv(\"/kaggle/input/e-commerce-analysis-uk/data.csv\", encoding = \"unicode_escape\")\n",
        "data.head()"
      ]
    },
    {
      "cell_type": "markdown",
      "id": "47bf99aa",
      "metadata": {
        "papermill": {
          "duration": 0.025015,
          "end_time": "2023-07-26T07:58:08.683047",
          "exception": false,
          "start_time": "2023-07-26T07:58:08.658032",
          "status": "completed"
        },
        "tags": [],
        "id": "47bf99aa"
      },
      "source": [
        "# Data Wrangling"
      ]
    },
    {
      "cell_type": "code",
      "execution_count": null,
      "id": "b48bc42a",
      "metadata": {
        "execution": {
          "iopub.execute_input": "2023-07-26T07:58:08.739222Z",
          "iopub.status.busy": "2023-07-26T07:58:08.738531Z",
          "iopub.status.idle": "2023-07-26T07:58:09.621220Z",
          "shell.execute_reply": "2023-07-26T07:58:09.619677Z"
        },
        "papermill": {
          "duration": 0.915438,
          "end_time": "2023-07-26T07:58:09.623967",
          "exception": false,
          "start_time": "2023-07-26T07:58:08.708529",
          "status": "completed"
        },
        "tags": [],
        "id": "b48bc42a",
        "outputId": "eea07ee7-204a-46dd-98a4-8f8d1e648441"
      },
      "outputs": [
        {
          "name": "stdout",
          "output_type": "stream",
          "text": [
            "<class 'pandas.core.frame.DataFrame'>\n",
            "RangeIndex: 541909 entries, 0 to 541908\n",
            "Data columns (total 8 columns):\n",
            " #   Column       Non-Null Count   Dtype  \n",
            "---  ------       --------------   -----  \n",
            " 0   InvoiceNo    541909 non-null  object \n",
            " 1   StockCode    541909 non-null  object \n",
            " 2   Description  540455 non-null  object \n",
            " 3   Quantity     541909 non-null  int64  \n",
            " 4   InvoiceDate  541909 non-null  object \n",
            " 5   UnitPrice    541909 non-null  float64\n",
            " 6   CustomerID   406829 non-null  float64\n",
            " 7   Country      541909 non-null  object \n",
            "dtypes: float64(2), int64(1), object(5)\n",
            "memory usage: 33.1+ MB\n"
          ]
        }
      ],
      "source": [
        "data.info() #overall view"
      ]
    },
    {
      "cell_type": "code",
      "execution_count": null,
      "id": "a1abd576",
      "metadata": {
        "execution": {
          "iopub.execute_input": "2023-07-26T07:58:09.678892Z",
          "iopub.status.busy": "2023-07-26T07:58:09.678467Z",
          "iopub.status.idle": "2023-07-26T07:58:09.778361Z",
          "shell.execute_reply": "2023-07-26T07:58:09.777066Z"
        },
        "papermill": {
          "duration": 0.130934,
          "end_time": "2023-07-26T07:58:09.781622",
          "exception": false,
          "start_time": "2023-07-26T07:58:09.650688",
          "status": "completed"
        },
        "tags": [],
        "id": "a1abd576",
        "outputId": "7cc33591-9142-4e5a-a288-9c9a27ed6201"
      },
      "outputs": [
        {
          "data": {
            "text/html": [
              "<div>\n",
              "<style scoped>\n",
              "    .dataframe tbody tr th:only-of-type {\n",
              "        vertical-align: middle;\n",
              "    }\n",
              "\n",
              "    .dataframe tbody tr th {\n",
              "        vertical-align: top;\n",
              "    }\n",
              "\n",
              "    .dataframe thead th {\n",
              "        text-align: right;\n",
              "    }\n",
              "</style>\n",
              "<table border=\"1\" class=\"dataframe\">\n",
              "  <thead>\n",
              "    <tr style=\"text-align: right;\">\n",
              "      <th></th>\n",
              "      <th>Quantity</th>\n",
              "      <th>UnitPrice</th>\n",
              "      <th>CustomerID</th>\n",
              "    </tr>\n",
              "  </thead>\n",
              "  <tbody>\n",
              "    <tr>\n",
              "      <th>count</th>\n",
              "      <td>541909.000000</td>\n",
              "      <td>541909.000000</td>\n",
              "      <td>406829.000000</td>\n",
              "    </tr>\n",
              "    <tr>\n",
              "      <th>mean</th>\n",
              "      <td>9.552250</td>\n",
              "      <td>4.611114</td>\n",
              "      <td>15287.690570</td>\n",
              "    </tr>\n",
              "    <tr>\n",
              "      <th>std</th>\n",
              "      <td>218.081158</td>\n",
              "      <td>96.759853</td>\n",
              "      <td>1713.600303</td>\n",
              "    </tr>\n",
              "    <tr>\n",
              "      <th>min</th>\n",
              "      <td>-80995.000000</td>\n",
              "      <td>-11062.060000</td>\n",
              "      <td>12346.000000</td>\n",
              "    </tr>\n",
              "    <tr>\n",
              "      <th>25%</th>\n",
              "      <td>1.000000</td>\n",
              "      <td>1.250000</td>\n",
              "      <td>13953.000000</td>\n",
              "    </tr>\n",
              "    <tr>\n",
              "      <th>50%</th>\n",
              "      <td>3.000000</td>\n",
              "      <td>2.080000</td>\n",
              "      <td>15152.000000</td>\n",
              "    </tr>\n",
              "    <tr>\n",
              "      <th>75%</th>\n",
              "      <td>10.000000</td>\n",
              "      <td>4.130000</td>\n",
              "      <td>16791.000000</td>\n",
              "    </tr>\n",
              "    <tr>\n",
              "      <th>max</th>\n",
              "      <td>80995.000000</td>\n",
              "      <td>38970.000000</td>\n",
              "      <td>18287.000000</td>\n",
              "    </tr>\n",
              "  </tbody>\n",
              "</table>\n",
              "</div>"
            ],
            "text/plain": [
              "            Quantity      UnitPrice     CustomerID\n",
              "count  541909.000000  541909.000000  406829.000000\n",
              "mean        9.552250       4.611114   15287.690570\n",
              "std       218.081158      96.759853    1713.600303\n",
              "min    -80995.000000  -11062.060000   12346.000000\n",
              "25%         1.000000       1.250000   13953.000000\n",
              "50%         3.000000       2.080000   15152.000000\n",
              "75%        10.000000       4.130000   16791.000000\n",
              "max     80995.000000   38970.000000   18287.000000"
            ]
          },
          "execution_count": 7,
          "metadata": {},
          "output_type": "execute_result"
        }
      ],
      "source": [
        "data.describe() #looking at numeric info"
      ]
    },
    {
      "cell_type": "code",
      "execution_count": null,
      "id": "1d3006b1",
      "metadata": {
        "execution": {
          "iopub.execute_input": "2023-07-26T07:58:09.835239Z",
          "iopub.status.busy": "2023-07-26T07:58:09.834823Z",
          "iopub.status.idle": "2023-07-26T07:58:09.842529Z",
          "shell.execute_reply": "2023-07-26T07:58:09.841250Z"
        },
        "papermill": {
          "duration": 0.03758,
          "end_time": "2023-07-26T07:58:09.844971",
          "exception": false,
          "start_time": "2023-07-26T07:58:09.807391",
          "status": "completed"
        },
        "tags": [],
        "id": "1d3006b1",
        "outputId": "afaf0a86-7cf9-48ad-cb1f-da598bb3cd99"
      },
      "outputs": [
        {
          "data": {
            "text/plain": [
              "(541909, 8)"
            ]
          },
          "execution_count": 8,
          "metadata": {},
          "output_type": "execute_result"
        }
      ],
      "source": [
        "data.shape #check Dimension\n"
      ]
    },
    {
      "cell_type": "markdown",
      "id": "2db2965f",
      "metadata": {
        "execution": {
          "iopub.execute_input": "2023-07-26T07:38:34.944809Z",
          "iopub.status.busy": "2023-07-26T07:38:34.944410Z",
          "iopub.status.idle": "2023-07-26T07:38:34.952270Z",
          "shell.execute_reply": "2023-07-26T07:38:34.950673Z",
          "shell.execute_reply.started": "2023-07-26T07:38:34.944776Z"
        },
        "papermill": {
          "duration": 0.026266,
          "end_time": "2023-07-26T07:58:09.897595",
          "exception": false,
          "start_time": "2023-07-26T07:58:09.871329",
          "status": "completed"
        },
        "tags": [],
        "id": "2db2965f"
      },
      "source": [
        "# Cleaning up the data!\n",
        "check for dublicates"
      ]
    },
    {
      "cell_type": "code",
      "execution_count": null,
      "id": "8df12b9f",
      "metadata": {
        "execution": {
          "iopub.execute_input": "2023-07-26T07:58:09.950924Z",
          "iopub.status.busy": "2023-07-26T07:58:09.950527Z",
          "iopub.status.idle": "2023-07-26T07:58:10.448931Z",
          "shell.execute_reply": "2023-07-26T07:58:10.447717Z"
        },
        "papermill": {
          "duration": 0.527837,
          "end_time": "2023-07-26T07:58:10.451539",
          "exception": false,
          "start_time": "2023-07-26T07:58:09.923702",
          "status": "completed"
        },
        "tags": [],
        "id": "8df12b9f",
        "outputId": "593bba3b-48f8-4fb9-bd2e-0b2ca4de85f6"
      },
      "outputs": [
        {
          "data": {
            "text/plain": [
              "5268"
            ]
          },
          "execution_count": 9,
          "metadata": {},
          "output_type": "execute_result"
        }
      ],
      "source": [
        "data.duplicated().sum()"
      ]
    },
    {
      "cell_type": "markdown",
      "id": "b2e7f321",
      "metadata": {
        "papermill": {
          "duration": 0.025649,
          "end_time": "2023-07-26T07:58:10.504175",
          "exception": false,
          "start_time": "2023-07-26T07:58:10.478526",
          "status": "completed"
        },
        "tags": [],
        "id": "b2e7f321"
      },
      "source": [
        "There are 5268 rows duplicated"
      ]
    },
    {
      "cell_type": "code",
      "execution_count": null,
      "id": "f5a58186",
      "metadata": {
        "execution": {
          "iopub.execute_input": "2023-07-26T07:58:10.557975Z",
          "iopub.status.busy": "2023-07-26T07:58:10.557583Z",
          "iopub.status.idle": "2023-07-26T07:58:11.121669Z",
          "shell.execute_reply": "2023-07-26T07:58:11.120412Z"
        },
        "papermill": {
          "duration": 0.594382,
          "end_time": "2023-07-26T07:58:11.124654",
          "exception": false,
          "start_time": "2023-07-26T07:58:10.530272",
          "status": "completed"
        },
        "tags": [],
        "id": "f5a58186"
      },
      "outputs": [],
      "source": [
        "data = data.drop_duplicates()"
      ]
    },
    {
      "cell_type": "code",
      "execution_count": null,
      "id": "a9fd171e",
      "metadata": {
        "execution": {
          "iopub.execute_input": "2023-07-26T07:58:11.179559Z",
          "iopub.status.busy": "2023-07-26T07:58:11.179099Z",
          "iopub.status.idle": "2023-07-26T07:58:11.691135Z",
          "shell.execute_reply": "2023-07-26T07:58:11.689967Z"
        },
        "papermill": {
          "duration": 0.543582,
          "end_time": "2023-07-26T07:58:11.693656",
          "exception": false,
          "start_time": "2023-07-26T07:58:11.150074",
          "status": "completed"
        },
        "tags": [],
        "id": "a9fd171e",
        "outputId": "6b2e5243-b6f9-4f9e-8f49-c562baaefcc8"
      },
      "outputs": [
        {
          "data": {
            "text/plain": [
              "0"
            ]
          },
          "execution_count": 11,
          "metadata": {},
          "output_type": "execute_result"
        }
      ],
      "source": [
        "data.duplicated().sum()"
      ]
    },
    {
      "cell_type": "markdown",
      "id": "5a33582e",
      "metadata": {
        "papermill": {
          "duration": 0.026683,
          "end_time": "2023-07-26T07:58:11.745793",
          "exception": false,
          "start_time": "2023-07-26T07:58:11.719110",
          "status": "completed"
        },
        "tags": [],
        "id": "5a33582e"
      },
      "source": [
        "Missing Values"
      ]
    },
    {
      "cell_type": "code",
      "execution_count": null,
      "id": "3d2c166e",
      "metadata": {
        "execution": {
          "iopub.execute_input": "2023-07-26T07:58:11.800731Z",
          "iopub.status.busy": "2023-07-26T07:58:11.799988Z",
          "iopub.status.idle": "2023-07-26T07:58:12.670471Z",
          "shell.execute_reply": "2023-07-26T07:58:12.669278Z"
        },
        "papermill": {
          "duration": 0.900895,
          "end_time": "2023-07-26T07:58:12.672848",
          "exception": false,
          "start_time": "2023-07-26T07:58:11.771953",
          "status": "completed"
        },
        "tags": [],
        "id": "3d2c166e",
        "outputId": "db508a17-34dd-455b-a626-eddf98d5764a"
      },
      "outputs": [
        {
          "data": {
            "text/plain": [
              "InvoiceNo           0\n",
              "StockCode           0\n",
              "Description      1454\n",
              "Quantity            0\n",
              "InvoiceDate         0\n",
              "UnitPrice           0\n",
              "CustomerID     135037\n",
              "Country             0\n",
              "dtype: int64"
            ]
          },
          "execution_count": 12,
          "metadata": {},
          "output_type": "execute_result"
        }
      ],
      "source": [
        "data.isna().sum()"
      ]
    },
    {
      "cell_type": "markdown",
      "id": "0b4f9e7f",
      "metadata": {
        "papermill": {
          "duration": 0.025729,
          "end_time": "2023-07-26T07:58:12.724534",
          "exception": false,
          "start_time": "2023-07-26T07:58:12.698805",
          "status": "completed"
        },
        "tags": [],
        "id": "0b4f9e7f"
      },
      "source": [
        "This shows that there is missing values in columns : Description and Customer ID"
      ]
    },
    {
      "cell_type": "markdown",
      "id": "686893ab",
      "metadata": {
        "papermill": {
          "duration": 0.026441,
          "end_time": "2023-07-26T07:58:12.777840",
          "exception": false,
          "start_time": "2023-07-26T07:58:12.751399",
          "status": "completed"
        },
        "tags": [],
        "id": "686893ab"
      },
      "source": [
        "# Handling missing values"
      ]
    },
    {
      "cell_type": "code",
      "execution_count": null,
      "id": "685e098b",
      "metadata": {
        "execution": {
          "iopub.execute_input": "2023-07-26T07:58:12.832997Z",
          "iopub.status.busy": "2023-07-26T07:58:12.832256Z",
          "iopub.status.idle": "2023-07-26T07:58:12.891817Z",
          "shell.execute_reply": "2023-07-26T07:58:12.890592Z"
        },
        "papermill": {
          "duration": 0.089492,
          "end_time": "2023-07-26T07:58:12.894326",
          "exception": false,
          "start_time": "2023-07-26T07:58:12.804834",
          "status": "completed"
        },
        "tags": [],
        "id": "685e098b",
        "outputId": "8a03370b-128a-4475-a651-db95c9a030f3"
      },
      "outputs": [
        {
          "data": {
            "text/html": [
              "<div>\n",
              "<style scoped>\n",
              "    .dataframe tbody tr th:only-of-type {\n",
              "        vertical-align: middle;\n",
              "    }\n",
              "\n",
              "    .dataframe tbody tr th {\n",
              "        vertical-align: top;\n",
              "    }\n",
              "\n",
              "    .dataframe thead th {\n",
              "        text-align: right;\n",
              "    }\n",
              "</style>\n",
              "<table border=\"1\" class=\"dataframe\">\n",
              "  <thead>\n",
              "    <tr style=\"text-align: right;\">\n",
              "      <th></th>\n",
              "      <th>InvoiceNo</th>\n",
              "      <th>StockCode</th>\n",
              "      <th>Description</th>\n",
              "      <th>Quantity</th>\n",
              "      <th>InvoiceDate</th>\n",
              "      <th>UnitPrice</th>\n",
              "      <th>CustomerID</th>\n",
              "      <th>Country</th>\n",
              "    </tr>\n",
              "  </thead>\n",
              "  <tbody>\n",
              "    <tr>\n",
              "      <th>0</th>\n",
              "      <td>536365</td>\n",
              "      <td>85123A</td>\n",
              "      <td>WHITE HANGING HEART T-LIGHT HOLDER</td>\n",
              "      <td>6</td>\n",
              "      <td>12/1/2010 8:26</td>\n",
              "      <td>2.55</td>\n",
              "      <td>17850.0</td>\n",
              "      <td>United Kingdom</td>\n",
              "    </tr>\n",
              "    <tr>\n",
              "      <th>1</th>\n",
              "      <td>536365</td>\n",
              "      <td>71053</td>\n",
              "      <td>WHITE METAL LANTERN</td>\n",
              "      <td>6</td>\n",
              "      <td>12/1/2010 8:26</td>\n",
              "      <td>3.39</td>\n",
              "      <td>17850.0</td>\n",
              "      <td>United Kingdom</td>\n",
              "    </tr>\n",
              "    <tr>\n",
              "      <th>2</th>\n",
              "      <td>536365</td>\n",
              "      <td>84406B</td>\n",
              "      <td>CREAM CUPID HEARTS COAT HANGER</td>\n",
              "      <td>8</td>\n",
              "      <td>12/1/2010 8:26</td>\n",
              "      <td>2.75</td>\n",
              "      <td>17850.0</td>\n",
              "      <td>United Kingdom</td>\n",
              "    </tr>\n",
              "    <tr>\n",
              "      <th>3</th>\n",
              "      <td>536365</td>\n",
              "      <td>84029G</td>\n",
              "      <td>KNITTED UNION FLAG HOT WATER BOTTLE</td>\n",
              "      <td>6</td>\n",
              "      <td>12/1/2010 8:26</td>\n",
              "      <td>3.39</td>\n",
              "      <td>17850.0</td>\n",
              "      <td>United Kingdom</td>\n",
              "    </tr>\n",
              "    <tr>\n",
              "      <th>4</th>\n",
              "      <td>536365</td>\n",
              "      <td>84029E</td>\n",
              "      <td>RED WOOLLY HOTTIE WHITE HEART.</td>\n",
              "      <td>6</td>\n",
              "      <td>12/1/2010 8:26</td>\n",
              "      <td>3.39</td>\n",
              "      <td>17850.0</td>\n",
              "      <td>United Kingdom</td>\n",
              "    </tr>\n",
              "  </tbody>\n",
              "</table>\n",
              "</div>"
            ],
            "text/plain": [
              "  InvoiceNo StockCode                          Description  Quantity  \\\n",
              "0    536365    85123A   WHITE HANGING HEART T-LIGHT HOLDER         6   \n",
              "1    536365     71053                  WHITE METAL LANTERN         6   \n",
              "2    536365    84406B       CREAM CUPID HEARTS COAT HANGER         8   \n",
              "3    536365    84029G  KNITTED UNION FLAG HOT WATER BOTTLE         6   \n",
              "4    536365    84029E       RED WOOLLY HOTTIE WHITE HEART.         6   \n",
              "\n",
              "      InvoiceDate  UnitPrice  CustomerID         Country  \n",
              "0  12/1/2010 8:26       2.55     17850.0  United Kingdom  \n",
              "1  12/1/2010 8:26       3.39     17850.0  United Kingdom  \n",
              "2  12/1/2010 8:26       2.75     17850.0  United Kingdom  \n",
              "3  12/1/2010 8:26       3.39     17850.0  United Kingdom  \n",
              "4  12/1/2010 8:26       3.39     17850.0  United Kingdom  "
            ]
          },
          "execution_count": 13,
          "metadata": {},
          "output_type": "execute_result"
        }
      ],
      "source": [
        "#make a copy\n",
        "copy = data.copy()\n",
        "copy.head()"
      ]
    },
    {
      "cell_type": "code",
      "execution_count": null,
      "id": "a285bed3",
      "metadata": {
        "execution": {
          "iopub.execute_input": "2023-07-26T07:58:12.949993Z",
          "iopub.status.busy": "2023-07-26T07:58:12.949272Z",
          "iopub.status.idle": "2023-07-26T07:58:13.062432Z",
          "shell.execute_reply": "2023-07-26T07:58:13.060921Z"
        },
        "papermill": {
          "duration": 0.143869,
          "end_time": "2023-07-26T07:58:13.065327",
          "exception": false,
          "start_time": "2023-07-26T07:58:12.921458",
          "status": "completed"
        },
        "tags": [],
        "id": "a285bed3"
      },
      "outputs": [],
      "source": [
        "#dealing with the missing value in our main data\n",
        "data['Description'] = data['Description'].fillna(\"Unknown\")\n",
        "data['CustomerID'] = data['CustomerID'].fillna(0)"
      ]
    },
    {
      "cell_type": "code",
      "execution_count": null,
      "id": "a919a823",
      "metadata": {
        "execution": {
          "iopub.execute_input": "2023-07-26T07:58:13.119919Z",
          "iopub.status.busy": "2023-07-26T07:58:13.119483Z",
          "iopub.status.idle": "2023-07-26T07:58:13.995171Z",
          "shell.execute_reply": "2023-07-26T07:58:13.993778Z"
        },
        "papermill": {
          "duration": 0.906153,
          "end_time": "2023-07-26T07:58:13.997972",
          "exception": false,
          "start_time": "2023-07-26T07:58:13.091819",
          "status": "completed"
        },
        "tags": [],
        "id": "a919a823",
        "outputId": "ca51a75b-1b9a-40f2-b66c-a97311377fc4"
      },
      "outputs": [
        {
          "data": {
            "text/plain": [
              "InvoiceNo      0\n",
              "StockCode      0\n",
              "Description    0\n",
              "Quantity       0\n",
              "InvoiceDate    0\n",
              "UnitPrice      0\n",
              "CustomerID     0\n",
              "Country        0\n",
              "dtype: int64"
            ]
          },
          "execution_count": 15,
          "metadata": {},
          "output_type": "execute_result"
        }
      ],
      "source": [
        "data.isnull().sum()"
      ]
    },
    {
      "cell_type": "markdown",
      "id": "0b03261e",
      "metadata": {
        "papermill": {
          "duration": 0.02591,
          "end_time": "2023-07-26T07:58:14.050940",
          "exception": false,
          "start_time": "2023-07-26T07:58:14.025030",
          "status": "completed"
        },
        "tags": [],
        "id": "0b03261e"
      },
      "source": [
        "Now we can proceed further as our data set is clean\n",
        "\n",
        "DataType\n",
        "\n",
        "Convert column with proper datatype"
      ]
    },
    {
      "cell_type": "code",
      "execution_count": null,
      "id": "412c1db0",
      "metadata": {
        "execution": {
          "iopub.execute_input": "2023-07-26T07:58:14.105871Z",
          "iopub.status.busy": "2023-07-26T07:58:14.105451Z",
          "iopub.status.idle": "2023-07-26T07:58:16.896709Z",
          "shell.execute_reply": "2023-07-26T07:58:16.895478Z"
        },
        "papermill": {
          "duration": 2.822514,
          "end_time": "2023-07-26T07:58:16.899739",
          "exception": false,
          "start_time": "2023-07-26T07:58:14.077225",
          "status": "completed"
        },
        "tags": [],
        "id": "412c1db0"
      },
      "outputs": [],
      "source": [
        "data['InvoiceDate'] = pd.to_datetime(data['InvoiceDate'])\n",
        "data['Quantity'] = pd.to_numeric(data['Quantity'])\n",
        "data['UnitPrice'] = pd.to_numeric(data['UnitPrice'])"
      ]
    },
    {
      "cell_type": "code",
      "execution_count": null,
      "id": "a7833751",
      "metadata": {
        "execution": {
          "iopub.execute_input": "2023-07-26T07:58:16.955254Z",
          "iopub.status.busy": "2023-07-26T07:58:16.954853Z",
          "iopub.status.idle": "2023-07-26T07:58:17.647511Z",
          "shell.execute_reply": "2023-07-26T07:58:17.646292Z"
        },
        "papermill": {
          "duration": 0.723494,
          "end_time": "2023-07-26T07:58:17.649983",
          "exception": false,
          "start_time": "2023-07-26T07:58:16.926489",
          "status": "completed"
        },
        "tags": [],
        "id": "a7833751",
        "outputId": "12396061-86fe-4d91-dd69-f11b92f40766"
      },
      "outputs": [
        {
          "name": "stdout",
          "output_type": "stream",
          "text": [
            "<class 'pandas.core.frame.DataFrame'>\n",
            "Int64Index: 536641 entries, 0 to 541908\n",
            "Data columns (total 8 columns):\n",
            " #   Column       Non-Null Count   Dtype         \n",
            "---  ------       --------------   -----         \n",
            " 0   InvoiceNo    536641 non-null  object        \n",
            " 1   StockCode    536641 non-null  object        \n",
            " 2   Description  536641 non-null  object        \n",
            " 3   Quantity     536641 non-null  int64         \n",
            " 4   InvoiceDate  536641 non-null  datetime64[ns]\n",
            " 5   UnitPrice    536641 non-null  float64       \n",
            " 6   CustomerID   536641 non-null  float64       \n",
            " 7   Country      536641 non-null  object        \n",
            "dtypes: datetime64[ns](1), float64(2), int64(1), object(4)\n",
            "memory usage: 36.8+ MB\n"
          ]
        }
      ],
      "source": [
        "data.info()"
      ]
    },
    {
      "cell_type": "code",
      "execution_count": null,
      "id": "bd9ab6cf",
      "metadata": {
        "execution": {
          "iopub.execute_input": "2023-07-26T07:58:17.704901Z",
          "iopub.status.busy": "2023-07-26T07:58:17.704487Z",
          "iopub.status.idle": "2023-07-26T07:58:18.647446Z",
          "shell.execute_reply": "2023-07-26T07:58:18.646409Z"
        },
        "papermill": {
          "duration": 0.973614,
          "end_time": "2023-07-26T07:58:18.650139",
          "exception": false,
          "start_time": "2023-07-26T07:58:17.676525",
          "status": "completed"
        },
        "tags": [],
        "id": "bd9ab6cf"
      },
      "outputs": [],
      "source": [
        "#creating a separate column for time\n",
        "data['Time'] = data['InvoiceDate'].dt.time\n",
        "#creating a separate column for month\n",
        "data['Month'] = data['InvoiceDate'].dt.month_name()\n",
        "#creating a separate column for day name\n",
        "data['Day'] = data['InvoiceDate'].dt.day_name()\n",
        "#creating a column for year\n",
        "data['Year']= data['InvoiceDate'].dt.year"
      ]
    },
    {
      "cell_type": "code",
      "execution_count": null,
      "id": "15e6547e",
      "metadata": {
        "execution": {
          "iopub.execute_input": "2023-07-26T07:58:18.706378Z",
          "iopub.status.busy": "2023-07-26T07:58:18.705927Z",
          "iopub.status.idle": "2023-07-26T07:58:18.714267Z",
          "shell.execute_reply": "2023-07-26T07:58:18.713082Z"
        },
        "papermill": {
          "duration": 0.039363,
          "end_time": "2023-07-26T07:58:18.716997",
          "exception": false,
          "start_time": "2023-07-26T07:58:18.677634",
          "status": "completed"
        },
        "tags": [],
        "id": "15e6547e"
      },
      "outputs": [],
      "source": [
        "#creating a column for total\n",
        "data['Total'] = data['Quantity']*data['UnitPrice']"
      ]
    },
    {
      "cell_type": "code",
      "execution_count": null,
      "id": "f903ad29",
      "metadata": {
        "execution": {
          "iopub.execute_input": "2023-07-26T07:58:18.775516Z",
          "iopub.status.busy": "2023-07-26T07:58:18.775071Z",
          "iopub.status.idle": "2023-07-26T07:58:18.796118Z",
          "shell.execute_reply": "2023-07-26T07:58:18.794936Z"
        },
        "papermill": {
          "duration": 0.054764,
          "end_time": "2023-07-26T07:58:18.798542",
          "exception": false,
          "start_time": "2023-07-26T07:58:18.743778",
          "status": "completed"
        },
        "tags": [],
        "id": "f903ad29",
        "outputId": "904d5fa8-3737-48b0-e023-eaa285bc7d81"
      },
      "outputs": [
        {
          "data": {
            "text/html": [
              "<div>\n",
              "<style scoped>\n",
              "    .dataframe tbody tr th:only-of-type {\n",
              "        vertical-align: middle;\n",
              "    }\n",
              "\n",
              "    .dataframe tbody tr th {\n",
              "        vertical-align: top;\n",
              "    }\n",
              "\n",
              "    .dataframe thead th {\n",
              "        text-align: right;\n",
              "    }\n",
              "</style>\n",
              "<table border=\"1\" class=\"dataframe\">\n",
              "  <thead>\n",
              "    <tr style=\"text-align: right;\">\n",
              "      <th></th>\n",
              "      <th>InvoiceNo</th>\n",
              "      <th>StockCode</th>\n",
              "      <th>Description</th>\n",
              "      <th>Quantity</th>\n",
              "      <th>InvoiceDate</th>\n",
              "      <th>UnitPrice</th>\n",
              "      <th>CustomerID</th>\n",
              "      <th>Country</th>\n",
              "      <th>Time</th>\n",
              "      <th>Month</th>\n",
              "      <th>Day</th>\n",
              "      <th>Year</th>\n",
              "      <th>Total</th>\n",
              "    </tr>\n",
              "  </thead>\n",
              "  <tbody>\n",
              "    <tr>\n",
              "      <th>0</th>\n",
              "      <td>536365</td>\n",
              "      <td>85123A</td>\n",
              "      <td>WHITE HANGING HEART T-LIGHT HOLDER</td>\n",
              "      <td>6</td>\n",
              "      <td>2010-12-01 08:26:00</td>\n",
              "      <td>2.55</td>\n",
              "      <td>17850.0</td>\n",
              "      <td>United Kingdom</td>\n",
              "      <td>08:26:00</td>\n",
              "      <td>December</td>\n",
              "      <td>Wednesday</td>\n",
              "      <td>2010</td>\n",
              "      <td>15.30</td>\n",
              "    </tr>\n",
              "    <tr>\n",
              "      <th>1</th>\n",
              "      <td>536365</td>\n",
              "      <td>71053</td>\n",
              "      <td>WHITE METAL LANTERN</td>\n",
              "      <td>6</td>\n",
              "      <td>2010-12-01 08:26:00</td>\n",
              "      <td>3.39</td>\n",
              "      <td>17850.0</td>\n",
              "      <td>United Kingdom</td>\n",
              "      <td>08:26:00</td>\n",
              "      <td>December</td>\n",
              "      <td>Wednesday</td>\n",
              "      <td>2010</td>\n",
              "      <td>20.34</td>\n",
              "    </tr>\n",
              "    <tr>\n",
              "      <th>2</th>\n",
              "      <td>536365</td>\n",
              "      <td>84406B</td>\n",
              "      <td>CREAM CUPID HEARTS COAT HANGER</td>\n",
              "      <td>8</td>\n",
              "      <td>2010-12-01 08:26:00</td>\n",
              "      <td>2.75</td>\n",
              "      <td>17850.0</td>\n",
              "      <td>United Kingdom</td>\n",
              "      <td>08:26:00</td>\n",
              "      <td>December</td>\n",
              "      <td>Wednesday</td>\n",
              "      <td>2010</td>\n",
              "      <td>22.00</td>\n",
              "    </tr>\n",
              "    <tr>\n",
              "      <th>3</th>\n",
              "      <td>536365</td>\n",
              "      <td>84029G</td>\n",
              "      <td>KNITTED UNION FLAG HOT WATER BOTTLE</td>\n",
              "      <td>6</td>\n",
              "      <td>2010-12-01 08:26:00</td>\n",
              "      <td>3.39</td>\n",
              "      <td>17850.0</td>\n",
              "      <td>United Kingdom</td>\n",
              "      <td>08:26:00</td>\n",
              "      <td>December</td>\n",
              "      <td>Wednesday</td>\n",
              "      <td>2010</td>\n",
              "      <td>20.34</td>\n",
              "    </tr>\n",
              "    <tr>\n",
              "      <th>4</th>\n",
              "      <td>536365</td>\n",
              "      <td>84029E</td>\n",
              "      <td>RED WOOLLY HOTTIE WHITE HEART.</td>\n",
              "      <td>6</td>\n",
              "      <td>2010-12-01 08:26:00</td>\n",
              "      <td>3.39</td>\n",
              "      <td>17850.0</td>\n",
              "      <td>United Kingdom</td>\n",
              "      <td>08:26:00</td>\n",
              "      <td>December</td>\n",
              "      <td>Wednesday</td>\n",
              "      <td>2010</td>\n",
              "      <td>20.34</td>\n",
              "    </tr>\n",
              "  </tbody>\n",
              "</table>\n",
              "</div>"
            ],
            "text/plain": [
              "  InvoiceNo StockCode                          Description  Quantity  \\\n",
              "0    536365    85123A   WHITE HANGING HEART T-LIGHT HOLDER         6   \n",
              "1    536365     71053                  WHITE METAL LANTERN         6   \n",
              "2    536365    84406B       CREAM CUPID HEARTS COAT HANGER         8   \n",
              "3    536365    84029G  KNITTED UNION FLAG HOT WATER BOTTLE         6   \n",
              "4    536365    84029E       RED WOOLLY HOTTIE WHITE HEART.         6   \n",
              "\n",
              "          InvoiceDate  UnitPrice  CustomerID         Country      Time  \\\n",
              "0 2010-12-01 08:26:00       2.55     17850.0  United Kingdom  08:26:00   \n",
              "1 2010-12-01 08:26:00       3.39     17850.0  United Kingdom  08:26:00   \n",
              "2 2010-12-01 08:26:00       2.75     17850.0  United Kingdom  08:26:00   \n",
              "3 2010-12-01 08:26:00       3.39     17850.0  United Kingdom  08:26:00   \n",
              "4 2010-12-01 08:26:00       3.39     17850.0  United Kingdom  08:26:00   \n",
              "\n",
              "      Month        Day  Year  Total  \n",
              "0  December  Wednesday  2010  15.30  \n",
              "1  December  Wednesday  2010  20.34  \n",
              "2  December  Wednesday  2010  22.00  \n",
              "3  December  Wednesday  2010  20.34  \n",
              "4  December  Wednesday  2010  20.34  "
            ]
          },
          "execution_count": 20,
          "metadata": {},
          "output_type": "execute_result"
        }
      ],
      "source": [
        "data.head()"
      ]
    },
    {
      "cell_type": "markdown",
      "id": "6062bc20",
      "metadata": {
        "papermill": {
          "duration": 0.026564,
          "end_time": "2023-07-26T07:58:18.852089",
          "exception": false,
          "start_time": "2023-07-26T07:58:18.825525",
          "status": "completed"
        },
        "tags": [],
        "id": "6062bc20"
      },
      "source": [
        "# Structuring"
      ]
    },
    {
      "cell_type": "code",
      "execution_count": null,
      "id": "90d3195a",
      "metadata": {
        "execution": {
          "iopub.execute_input": "2023-07-26T07:58:18.909303Z",
          "iopub.status.busy": "2023-07-26T07:58:18.908878Z",
          "iopub.status.idle": "2023-07-26T07:58:19.325865Z",
          "shell.execute_reply": "2023-07-26T07:58:19.324576Z"
        },
        "papermill": {
          "duration": 0.448315,
          "end_time": "2023-07-26T07:58:19.328414",
          "exception": false,
          "start_time": "2023-07-26T07:58:18.880099",
          "status": "completed"
        },
        "tags": [],
        "id": "90d3195a",
        "outputId": "78881197-c4bd-4463-a874-ed59f08b1a15"
      },
      "outputs": [
        {
          "data": {
            "text/plain": [
              "<Axes: ylabel='UnitPrice'>"
            ]
          },
          "execution_count": 21,
          "metadata": {},
          "output_type": "execute_result"
        },
        {
          "data": {
            "image/png": "[encoded data removed]",
            "text/plain": [
              "<Figure size 640x480 with 1 Axes>"
            ]
          },
          "metadata": {},
          "output_type": "display_data"
        }
      ],
      "source": [
        "#Check Unit Price `s Distribution\n",
        "sns.boxplot(y = 'UnitPrice', data=data)"
      ]
    },
    {
      "cell_type": "markdown",
      "id": "f8470550",
      "metadata": {
        "papermill": {
          "duration": 0.027439,
          "end_time": "2023-07-26T07:58:19.383727",
          "exception": false,
          "start_time": "2023-07-26T07:58:19.356288",
          "status": "completed"
        },
        "tags": [],
        "id": "f8470550"
      },
      "source": [
        "It seems that there are values in UnitPrice column which are under 0"
      ]
    },
    {
      "cell_type": "code",
      "execution_count": null,
      "id": "50a31d0f",
      "metadata": {
        "execution": {
          "iopub.execute_input": "2023-07-26T07:58:19.441937Z",
          "iopub.status.busy": "2023-07-26T07:58:19.440761Z",
          "iopub.status.idle": "2023-07-26T07:58:19.636131Z",
          "shell.execute_reply": "2023-07-26T07:58:19.635001Z"
        },
        "papermill": {
          "duration": 0.226737,
          "end_time": "2023-07-26T07:58:19.638534",
          "exception": false,
          "start_time": "2023-07-26T07:58:19.411797",
          "status": "completed"
        },
        "tags": [],
        "id": "50a31d0f",
        "outputId": "b7786cfe-5808-426d-a810-272f549418d8"
      },
      "outputs": [
        {
          "data": {
            "text/html": [
              "<div>\n",
              "<style scoped>\n",
              "    .dataframe tbody tr th:only-of-type {\n",
              "        vertical-align: middle;\n",
              "    }\n",
              "\n",
              "    .dataframe tbody tr th {\n",
              "        vertical-align: top;\n",
              "    }\n",
              "\n",
              "    .dataframe thead th {\n",
              "        text-align: right;\n",
              "    }\n",
              "</style>\n",
              "<table border=\"1\" class=\"dataframe\">\n",
              "  <thead>\n",
              "    <tr style=\"text-align: right;\">\n",
              "      <th></th>\n",
              "      <th>InvoiceNo</th>\n",
              "      <th>StockCode</th>\n",
              "      <th>Description</th>\n",
              "      <th>Quantity</th>\n",
              "      <th>InvoiceDate</th>\n",
              "      <th>UnitPrice</th>\n",
              "      <th>CustomerID</th>\n",
              "      <th>Country</th>\n",
              "      <th>Time</th>\n",
              "      <th>Month</th>\n",
              "      <th>Day</th>\n",
              "      <th>Year</th>\n",
              "      <th>Total</th>\n",
              "    </tr>\n",
              "  </thead>\n",
              "  <tbody>\n",
              "    <tr>\n",
              "      <th>299983</th>\n",
              "      <td>A563186</td>\n",
              "      <td>B</td>\n",
              "      <td>Adjust bad debt</td>\n",
              "      <td>1</td>\n",
              "      <td>2011-08-12 14:51:00</td>\n",
              "      <td>-11062.06</td>\n",
              "      <td>0.0</td>\n",
              "      <td>United Kingdom</td>\n",
              "      <td>14:51:00</td>\n",
              "      <td>August</td>\n",
              "      <td>Friday</td>\n",
              "      <td>2011</td>\n",
              "      <td>-11062.06</td>\n",
              "    </tr>\n",
              "    <tr>\n",
              "      <th>299984</th>\n",
              "      <td>A563187</td>\n",
              "      <td>B</td>\n",
              "      <td>Adjust bad debt</td>\n",
              "      <td>1</td>\n",
              "      <td>2011-08-12 14:52:00</td>\n",
              "      <td>-11062.06</td>\n",
              "      <td>0.0</td>\n",
              "      <td>United Kingdom</td>\n",
              "      <td>14:52:00</td>\n",
              "      <td>August</td>\n",
              "      <td>Friday</td>\n",
              "      <td>2011</td>\n",
              "      <td>-11062.06</td>\n",
              "    </tr>\n",
              "  </tbody>\n",
              "</table>\n",
              "</div>"
            ],
            "text/plain": [
              "       InvoiceNo StockCode      Description  Quantity         InvoiceDate  \\\n",
              "299983   A563186         B  Adjust bad debt         1 2011-08-12 14:51:00   \n",
              "299984   A563187         B  Adjust bad debt         1 2011-08-12 14:52:00   \n",
              "\n",
              "        UnitPrice  CustomerID         Country      Time   Month     Day  Year  \\\n",
              "299983  -11062.06         0.0  United Kingdom  14:51:00  August  Friday  2011   \n",
              "299984  -11062.06         0.0  United Kingdom  14:52:00  August  Friday  2011   \n",
              "\n",
              "           Total  \n",
              "299983 -11062.06  \n",
              "299984 -11062.06  "
            ]
          },
          "execution_count": 22,
          "metadata": {},
          "output_type": "execute_result"
        }
      ],
      "source": [
        "data[data['UnitPrice'] < 0]"
      ]
    },
    {
      "cell_type": "markdown",
      "id": "728cecce",
      "metadata": {
        "papermill": {
          "duration": 0.027155,
          "end_time": "2023-07-26T07:58:19.693227",
          "exception": false,
          "start_time": "2023-07-26T07:58:19.666072",
          "status": "completed"
        },
        "tags": [],
        "id": "728cecce"
      },
      "source": [
        "These are debt which are not required, so we remove them There are some invoices which are debt, which we don't need in our analysis, these invoices are associated with description having word \"dept\".\n",
        "\n",
        "Now to remove rows that contains word \"debt\" or \"DEBT\" we can use below code"
      ]
    },
    {
      "cell_type": "code",
      "execution_count": null,
      "id": "113abe38",
      "metadata": {
        "execution": {
          "iopub.execute_input": "2023-07-26T07:58:19.750326Z",
          "iopub.status.busy": "2023-07-26T07:58:19.749911Z",
          "iopub.status.idle": "2023-07-26T07:58:20.355791Z",
          "shell.execute_reply": "2023-07-26T07:58:20.354597Z"
        },
        "papermill": {
          "duration": 0.637504,
          "end_time": "2023-07-26T07:58:20.358456",
          "exception": false,
          "start_time": "2023-07-26T07:58:19.720952",
          "status": "completed"
        },
        "tags": [],
        "id": "113abe38",
        "outputId": "357f878a-f141-4d82-acac-21f09df9f8d5"
      },
      "outputs": [
        {
          "data": {
            "text/html": [
              "<div>\n",
              "<style scoped>\n",
              "    .dataframe tbody tr th:only-of-type {\n",
              "        vertical-align: middle;\n",
              "    }\n",
              "\n",
              "    .dataframe tbody tr th {\n",
              "        vertical-align: top;\n",
              "    }\n",
              "\n",
              "    .dataframe thead th {\n",
              "        text-align: right;\n",
              "    }\n",
              "</style>\n",
              "<table border=\"1\" class=\"dataframe\">\n",
              "  <thead>\n",
              "    <tr style=\"text-align: right;\">\n",
              "      <th></th>\n",
              "      <th>InvoiceNo</th>\n",
              "      <th>StockCode</th>\n",
              "      <th>Description</th>\n",
              "      <th>Quantity</th>\n",
              "      <th>InvoiceDate</th>\n",
              "      <th>UnitPrice</th>\n",
              "      <th>CustomerID</th>\n",
              "      <th>Country</th>\n",
              "      <th>Time</th>\n",
              "      <th>Month</th>\n",
              "      <th>Day</th>\n",
              "      <th>Year</th>\n",
              "      <th>Total</th>\n",
              "    </tr>\n",
              "  </thead>\n",
              "  <tbody>\n",
              "    <tr>\n",
              "      <th>299982</th>\n",
              "      <td>A563185</td>\n",
              "      <td>B</td>\n",
              "      <td>Adjust bad debt</td>\n",
              "      <td>1</td>\n",
              "      <td>2011-08-12 14:50:00</td>\n",
              "      <td>11062.06</td>\n",
              "      <td>0.0</td>\n",
              "      <td>United Kingdom</td>\n",
              "      <td>14:50:00</td>\n",
              "      <td>August</td>\n",
              "      <td>Friday</td>\n",
              "      <td>2011</td>\n",
              "      <td>11062.06</td>\n",
              "    </tr>\n",
              "    <tr>\n",
              "      <th>299983</th>\n",
              "      <td>A563186</td>\n",
              "      <td>B</td>\n",
              "      <td>Adjust bad debt</td>\n",
              "      <td>1</td>\n",
              "      <td>2011-08-12 14:51:00</td>\n",
              "      <td>-11062.06</td>\n",
              "      <td>0.0</td>\n",
              "      <td>United Kingdom</td>\n",
              "      <td>14:51:00</td>\n",
              "      <td>August</td>\n",
              "      <td>Friday</td>\n",
              "      <td>2011</td>\n",
              "      <td>-11062.06</td>\n",
              "    </tr>\n",
              "    <tr>\n",
              "      <th>299984</th>\n",
              "      <td>A563187</td>\n",
              "      <td>B</td>\n",
              "      <td>Adjust bad debt</td>\n",
              "      <td>1</td>\n",
              "      <td>2011-08-12 14:52:00</td>\n",
              "      <td>-11062.06</td>\n",
              "      <td>0.0</td>\n",
              "      <td>United Kingdom</td>\n",
              "      <td>14:52:00</td>\n",
              "      <td>August</td>\n",
              "      <td>Friday</td>\n",
              "      <td>2011</td>\n",
              "      <td>-11062.06</td>\n",
              "    </tr>\n",
              "  </tbody>\n",
              "</table>\n",
              "</div>"
            ],
            "text/plain": [
              "       InvoiceNo StockCode      Description  Quantity         InvoiceDate  \\\n",
              "299982   A563185         B  Adjust bad debt         1 2011-08-12 14:50:00   \n",
              "299983   A563186         B  Adjust bad debt         1 2011-08-12 14:51:00   \n",
              "299984   A563187         B  Adjust bad debt         1 2011-08-12 14:52:00   \n",
              "\n",
              "        UnitPrice  CustomerID         Country      Time   Month     Day  Year  \\\n",
              "299982   11062.06         0.0  United Kingdom  14:50:00  August  Friday  2011   \n",
              "299983  -11062.06         0.0  United Kingdom  14:51:00  August  Friday  2011   \n",
              "299984  -11062.06         0.0  United Kingdom  14:52:00  August  Friday  2011   \n",
              "\n",
              "           Total  \n",
              "299982  11062.06  \n",
              "299983 -11062.06  \n",
              "299984 -11062.06  "
            ]
          },
          "execution_count": 23,
          "metadata": {},
          "output_type": "execute_result"
        }
      ],
      "source": [
        "data[data['Description'].str.contains('debt', case=False)]"
      ]
    },
    {
      "cell_type": "code",
      "execution_count": null,
      "id": "37392703",
      "metadata": {
        "execution": {
          "iopub.execute_input": "2023-07-26T07:58:20.417582Z",
          "iopub.status.busy": "2023-07-26T07:58:20.417120Z",
          "iopub.status.idle": "2023-07-26T07:58:21.092972Z",
          "shell.execute_reply": "2023-07-26T07:58:21.091710Z"
        },
        "papermill": {
          "duration": 0.708639,
          "end_time": "2023-07-26T07:58:21.095909",
          "exception": false,
          "start_time": "2023-07-26T07:58:20.387270",
          "status": "completed"
        },
        "tags": [],
        "id": "37392703"
      },
      "outputs": [],
      "source": [
        "mask = data['Description'].str.contains('debt', case=False)\n",
        "# Invert mask and use boolean indexing to filter out rows\n",
        "data = data[~mask]"
      ]
    },
    {
      "cell_type": "code",
      "execution_count": null,
      "id": "10428221",
      "metadata": {
        "execution": {
          "iopub.execute_input": "2023-07-26T07:58:21.154255Z",
          "iopub.status.busy": "2023-07-26T07:58:21.153825Z",
          "iopub.status.idle": "2023-07-26T07:58:21.258087Z",
          "shell.execute_reply": "2023-07-26T07:58:21.256723Z"
        },
        "papermill": {
          "duration": 0.137585,
          "end_time": "2023-07-26T07:58:21.261616",
          "exception": false,
          "start_time": "2023-07-26T07:58:21.124031",
          "status": "completed"
        },
        "tags": [],
        "id": "10428221"
      },
      "outputs": [],
      "source": [
        "data = data[data['UnitPrice']>0] #filtering our data"
      ]
    },
    {
      "cell_type": "code",
      "execution_count": null,
      "id": "d2ba5ccf",
      "metadata": {
        "execution": {
          "iopub.execute_input": "2023-07-26T07:58:21.320111Z",
          "iopub.status.busy": "2023-07-26T07:58:21.319703Z",
          "iopub.status.idle": "2023-07-26T07:58:21.330110Z",
          "shell.execute_reply": "2023-07-26T07:58:21.329191Z"
        },
        "papermill": {
          "duration": 0.042436,
          "end_time": "2023-07-26T07:58:21.332620",
          "exception": false,
          "start_time": "2023-07-26T07:58:21.290184",
          "status": "completed"
        },
        "tags": [],
        "id": "d2ba5ccf",
        "outputId": "fd01f148-0d59-408a-b08d-23f917efe23d"
      },
      "outputs": [
        {
          "data": {
            "text/plain": [
              "0.001"
            ]
          },
          "execution_count": 26,
          "metadata": {},
          "output_type": "execute_result"
        }
      ],
      "source": [
        "#check the minimum\n",
        "data['UnitPrice'].min()"
      ]
    },
    {
      "cell_type": "markdown",
      "id": "af4436d6",
      "metadata": {
        "papermill": {
          "duration": 0.033123,
          "end_time": "2023-07-26T07:58:21.393729",
          "exception": false,
          "start_time": "2023-07-26T07:58:21.360606",
          "status": "completed"
        },
        "tags": [],
        "id": "af4436d6"
      },
      "source": [
        "Now let us also check for Quantity's distribution"
      ]
    },
    {
      "cell_type": "code",
      "execution_count": null,
      "id": "fc619006",
      "metadata": {
        "execution": {
          "iopub.execute_input": "2023-07-26T07:58:21.451832Z",
          "iopub.status.busy": "2023-07-26T07:58:21.451346Z",
          "iopub.status.idle": "2023-07-26T07:58:21.960418Z",
          "shell.execute_reply": "2023-07-26T07:58:21.958539Z"
        },
        "papermill": {
          "duration": 0.541793,
          "end_time": "2023-07-26T07:58:21.963488",
          "exception": false,
          "start_time": "2023-07-26T07:58:21.421695",
          "status": "completed"
        },
        "tags": [],
        "id": "fc619006",
        "outputId": "d7e407b9-929d-4b1b-af0b-ca74303abeed"
      },
      "outputs": [
        {
          "data": {
            "text/plain": [
              "<Axes: ylabel='Quantity'>"
            ]
          },
          "execution_count": 27,
          "metadata": {},
          "output_type": "execute_result"
        },
        {
          "data": {
            "image/png": "[encoded data removed]",
            "text/plain": [
              "<Figure size 640x480 with 1 Axes>"
            ]
          },
          "metadata": {},
          "output_type": "display_data"
        }
      ],
      "source": [
        "sns.boxplot(y = 'Quantity', data=data)"
      ]
    },
    {
      "cell_type": "markdown",
      "id": "5f3e8433",
      "metadata": {
        "execution": {
          "iopub.execute_input": "2023-07-26T07:42:40.520990Z",
          "iopub.status.busy": "2023-07-26T07:42:40.520620Z",
          "iopub.status.idle": "2023-07-26T07:42:40.528205Z",
          "shell.execute_reply": "2023-07-26T07:42:40.526744Z",
          "shell.execute_reply.started": "2023-07-26T07:42:40.520960Z"
        },
        "papermill": {
          "duration": 0.029191,
          "end_time": "2023-07-26T07:58:22.023064",
          "exception": false,
          "start_time": "2023-07-26T07:58:21.993873",
          "status": "completed"
        },
        "tags": [],
        "id": "5f3e8433"
      },
      "source": [
        "This means that there are values in column Quantity which are under 0, which happens when there is a cancelled purchase"
      ]
    },
    {
      "cell_type": "code",
      "execution_count": null,
      "id": "af482926",
      "metadata": {
        "execution": {
          "iopub.execute_input": "2023-07-26T07:58:22.083988Z",
          "iopub.status.busy": "2023-07-26T07:58:22.082960Z",
          "iopub.status.idle": "2023-07-26T07:58:22.116498Z",
          "shell.execute_reply": "2023-07-26T07:58:22.115228Z"
        },
        "papermill": {
          "duration": 0.067343,
          "end_time": "2023-07-26T07:58:22.119032",
          "exception": false,
          "start_time": "2023-07-26T07:58:22.051689",
          "status": "completed"
        },
        "tags": [],
        "id": "af482926",
        "outputId": "047ac624-a299-4d99-c9d8-b112e39528ba"
      },
      "outputs": [
        {
          "data": {
            "text/html": [
              "<div>\n",
              "<style scoped>\n",
              "    .dataframe tbody tr th:only-of-type {\n",
              "        vertical-align: middle;\n",
              "    }\n",
              "\n",
              "    .dataframe tbody tr th {\n",
              "        vertical-align: top;\n",
              "    }\n",
              "\n",
              "    .dataframe thead th {\n",
              "        text-align: right;\n",
              "    }\n",
              "</style>\n",
              "<table border=\"1\" class=\"dataframe\">\n",
              "  <thead>\n",
              "    <tr style=\"text-align: right;\">\n",
              "      <th></th>\n",
              "      <th>InvoiceNo</th>\n",
              "      <th>StockCode</th>\n",
              "      <th>Description</th>\n",
              "      <th>Quantity</th>\n",
              "      <th>InvoiceDate</th>\n",
              "      <th>UnitPrice</th>\n",
              "      <th>CustomerID</th>\n",
              "      <th>Country</th>\n",
              "      <th>Time</th>\n",
              "      <th>Month</th>\n",
              "      <th>Day</th>\n",
              "      <th>Year</th>\n",
              "      <th>Total</th>\n",
              "    </tr>\n",
              "  </thead>\n",
              "  <tbody>\n",
              "    <tr>\n",
              "      <th>141</th>\n",
              "      <td>C536379</td>\n",
              "      <td>D</td>\n",
              "      <td>Discount</td>\n",
              "      <td>-1</td>\n",
              "      <td>2010-12-01 09:41:00</td>\n",
              "      <td>27.50</td>\n",
              "      <td>14527.0</td>\n",
              "      <td>United Kingdom</td>\n",
              "      <td>09:41:00</td>\n",
              "      <td>December</td>\n",
              "      <td>Wednesday</td>\n",
              "      <td>2010</td>\n",
              "      <td>-27.50</td>\n",
              "    </tr>\n",
              "    <tr>\n",
              "      <th>154</th>\n",
              "      <td>C536383</td>\n",
              "      <td>35004C</td>\n",
              "      <td>SET OF 3 COLOURED  FLYING DUCKS</td>\n",
              "      <td>-1</td>\n",
              "      <td>2010-12-01 09:49:00</td>\n",
              "      <td>4.65</td>\n",
              "      <td>15311.0</td>\n",
              "      <td>United Kingdom</td>\n",
              "      <td>09:49:00</td>\n",
              "      <td>December</td>\n",
              "      <td>Wednesday</td>\n",
              "      <td>2010</td>\n",
              "      <td>-4.65</td>\n",
              "    </tr>\n",
              "    <tr>\n",
              "      <th>235</th>\n",
              "      <td>C536391</td>\n",
              "      <td>22556</td>\n",
              "      <td>PLASTERS IN TIN CIRCUS PARADE</td>\n",
              "      <td>-12</td>\n",
              "      <td>2010-12-01 10:24:00</td>\n",
              "      <td>1.65</td>\n",
              "      <td>17548.0</td>\n",
              "      <td>United Kingdom</td>\n",
              "      <td>10:24:00</td>\n",
              "      <td>December</td>\n",
              "      <td>Wednesday</td>\n",
              "      <td>2010</td>\n",
              "      <td>-19.80</td>\n",
              "    </tr>\n",
              "    <tr>\n",
              "      <th>236</th>\n",
              "      <td>C536391</td>\n",
              "      <td>21984</td>\n",
              "      <td>PACK OF 12 PINK PAISLEY TISSUES</td>\n",
              "      <td>-24</td>\n",
              "      <td>2010-12-01 10:24:00</td>\n",
              "      <td>0.29</td>\n",
              "      <td>17548.0</td>\n",
              "      <td>United Kingdom</td>\n",
              "      <td>10:24:00</td>\n",
              "      <td>December</td>\n",
              "      <td>Wednesday</td>\n",
              "      <td>2010</td>\n",
              "      <td>-6.96</td>\n",
              "    </tr>\n",
              "    <tr>\n",
              "      <th>237</th>\n",
              "      <td>C536391</td>\n",
              "      <td>21983</td>\n",
              "      <td>PACK OF 12 BLUE PAISLEY TISSUES</td>\n",
              "      <td>-24</td>\n",
              "      <td>2010-12-01 10:24:00</td>\n",
              "      <td>0.29</td>\n",
              "      <td>17548.0</td>\n",
              "      <td>United Kingdom</td>\n",
              "      <td>10:24:00</td>\n",
              "      <td>December</td>\n",
              "      <td>Wednesday</td>\n",
              "      <td>2010</td>\n",
              "      <td>-6.96</td>\n",
              "    </tr>\n",
              "    <tr>\n",
              "      <th>...</th>\n",
              "      <td>...</td>\n",
              "      <td>...</td>\n",
              "      <td>...</td>\n",
              "      <td>...</td>\n",
              "      <td>...</td>\n",
              "      <td>...</td>\n",
              "      <td>...</td>\n",
              "      <td>...</td>\n",
              "      <td>...</td>\n",
              "      <td>...</td>\n",
              "      <td>...</td>\n",
              "      <td>...</td>\n",
              "      <td>...</td>\n",
              "    </tr>\n",
              "    <tr>\n",
              "      <th>540449</th>\n",
              "      <td>C581490</td>\n",
              "      <td>23144</td>\n",
              "      <td>ZINC T-LIGHT HOLDER STARS SMALL</td>\n",
              "      <td>-11</td>\n",
              "      <td>2011-12-09 09:57:00</td>\n",
              "      <td>0.83</td>\n",
              "      <td>14397.0</td>\n",
              "      <td>United Kingdom</td>\n",
              "      <td>09:57:00</td>\n",
              "      <td>December</td>\n",
              "      <td>Friday</td>\n",
              "      <td>2011</td>\n",
              "      <td>-9.13</td>\n",
              "    </tr>\n",
              "    <tr>\n",
              "      <th>541541</th>\n",
              "      <td>C581499</td>\n",
              "      <td>M</td>\n",
              "      <td>Manual</td>\n",
              "      <td>-1</td>\n",
              "      <td>2011-12-09 10:28:00</td>\n",
              "      <td>224.69</td>\n",
              "      <td>15498.0</td>\n",
              "      <td>United Kingdom</td>\n",
              "      <td>10:28:00</td>\n",
              "      <td>December</td>\n",
              "      <td>Friday</td>\n",
              "      <td>2011</td>\n",
              "      <td>-224.69</td>\n",
              "    </tr>\n",
              "    <tr>\n",
              "      <th>541715</th>\n",
              "      <td>C581568</td>\n",
              "      <td>21258</td>\n",
              "      <td>VICTORIAN SEWING BOX LARGE</td>\n",
              "      <td>-5</td>\n",
              "      <td>2011-12-09 11:57:00</td>\n",
              "      <td>10.95</td>\n",
              "      <td>15311.0</td>\n",
              "      <td>United Kingdom</td>\n",
              "      <td>11:57:00</td>\n",
              "      <td>December</td>\n",
              "      <td>Friday</td>\n",
              "      <td>2011</td>\n",
              "      <td>-54.75</td>\n",
              "    </tr>\n",
              "    <tr>\n",
              "      <th>541716</th>\n",
              "      <td>C581569</td>\n",
              "      <td>84978</td>\n",
              "      <td>HANGING HEART JAR T-LIGHT HOLDER</td>\n",
              "      <td>-1</td>\n",
              "      <td>2011-12-09 11:58:00</td>\n",
              "      <td>1.25</td>\n",
              "      <td>17315.0</td>\n",
              "      <td>United Kingdom</td>\n",
              "      <td>11:58:00</td>\n",
              "      <td>December</td>\n",
              "      <td>Friday</td>\n",
              "      <td>2011</td>\n",
              "      <td>-1.25</td>\n",
              "    </tr>\n",
              "    <tr>\n",
              "      <th>541717</th>\n",
              "      <td>C581569</td>\n",
              "      <td>20979</td>\n",
              "      <td>36 PENCILS TUBE RED RETROSPOT</td>\n",
              "      <td>-5</td>\n",
              "      <td>2011-12-09 11:58:00</td>\n",
              "      <td>1.25</td>\n",
              "      <td>17315.0</td>\n",
              "      <td>United Kingdom</td>\n",
              "      <td>11:58:00</td>\n",
              "      <td>December</td>\n",
              "      <td>Friday</td>\n",
              "      <td>2011</td>\n",
              "      <td>-6.25</td>\n",
              "    </tr>\n",
              "  </tbody>\n",
              "</table>\n",
              "<p>9251 rows × 13 columns</p>\n",
              "</div>"
            ],
            "text/plain": [
              "       InvoiceNo StockCode                       Description  Quantity  \\\n",
              "141      C536379         D                          Discount        -1   \n",
              "154      C536383    35004C   SET OF 3 COLOURED  FLYING DUCKS        -1   \n",
              "235      C536391     22556    PLASTERS IN TIN CIRCUS PARADE        -12   \n",
              "236      C536391     21984  PACK OF 12 PINK PAISLEY TISSUES        -24   \n",
              "237      C536391     21983  PACK OF 12 BLUE PAISLEY TISSUES        -24   \n",
              "...          ...       ...                               ...       ...   \n",
              "540449   C581490     23144   ZINC T-LIGHT HOLDER STARS SMALL       -11   \n",
              "541541   C581499         M                            Manual        -1   \n",
              "541715   C581568     21258        VICTORIAN SEWING BOX LARGE        -5   \n",
              "541716   C581569     84978  HANGING HEART JAR T-LIGHT HOLDER        -1   \n",
              "541717   C581569     20979     36 PENCILS TUBE RED RETROSPOT        -5   \n",
              "\n",
              "               InvoiceDate  UnitPrice  CustomerID         Country      Time  \\\n",
              "141    2010-12-01 09:41:00      27.50     14527.0  United Kingdom  09:41:00   \n",
              "154    2010-12-01 09:49:00       4.65     15311.0  United Kingdom  09:49:00   \n",
              "235    2010-12-01 10:24:00       1.65     17548.0  United Kingdom  10:24:00   \n",
              "236    2010-12-01 10:24:00       0.29     17548.0  United Kingdom  10:24:00   \n",
              "237    2010-12-01 10:24:00       0.29     17548.0  United Kingdom  10:24:00   \n",
              "...                    ...        ...         ...             ...       ...   \n",
              "540449 2011-12-09 09:57:00       0.83     14397.0  United Kingdom  09:57:00   \n",
              "541541 2011-12-09 10:28:00     224.69     15498.0  United Kingdom  10:28:00   \n",
              "541715 2011-12-09 11:57:00      10.95     15311.0  United Kingdom  11:57:00   \n",
              "541716 2011-12-09 11:58:00       1.25     17315.0  United Kingdom  11:58:00   \n",
              "541717 2011-12-09 11:58:00       1.25     17315.0  United Kingdom  11:58:00   \n",
              "\n",
              "           Month        Day  Year   Total  \n",
              "141     December  Wednesday  2010  -27.50  \n",
              "154     December  Wednesday  2010   -4.65  \n",
              "235     December  Wednesday  2010  -19.80  \n",
              "236     December  Wednesday  2010   -6.96  \n",
              "237     December  Wednesday  2010   -6.96  \n",
              "...          ...        ...   ...     ...  \n",
              "540449  December     Friday  2011   -9.13  \n",
              "541541  December     Friday  2011 -224.69  \n",
              "541715  December     Friday  2011  -54.75  \n",
              "541716  December     Friday  2011   -1.25  \n",
              "541717  December     Friday  2011   -6.25  \n",
              "\n",
              "[9251 rows x 13 columns]"
            ]
          },
          "execution_count": 28,
          "metadata": {},
          "output_type": "execute_result"
        }
      ],
      "source": [
        "data[data['Quantity']<0]"
      ]
    },
    {
      "cell_type": "markdown",
      "id": "6f05b4a3",
      "metadata": {
        "papermill": {
          "duration": 0.029125,
          "end_time": "2023-07-26T07:58:22.177146",
          "exception": false,
          "start_time": "2023-07-26T07:58:22.148021",
          "status": "completed"
        },
        "tags": [],
        "id": "6f05b4a3"
      },
      "source": [
        "Now we can create a separate data frame for cancelled purchases"
      ]
    },
    {
      "cell_type": "code",
      "execution_count": null,
      "id": "167cf062",
      "metadata": {
        "execution": {
          "iopub.execute_input": "2023-07-26T07:58:22.237436Z",
          "iopub.status.busy": "2023-07-26T07:58:22.236979Z",
          "iopub.status.idle": "2023-07-26T07:58:22.247984Z",
          "shell.execute_reply": "2023-07-26T07:58:22.246792Z"
        },
        "papermill": {
          "duration": 0.043958,
          "end_time": "2023-07-26T07:58:22.250802",
          "exception": false,
          "start_time": "2023-07-26T07:58:22.206844",
          "status": "completed"
        },
        "tags": [],
        "id": "167cf062"
      },
      "outputs": [],
      "source": [
        "cancelled_purchases = data[data['Quantity'] < 0]"
      ]
    },
    {
      "cell_type": "markdown",
      "id": "bd2c1dac",
      "metadata": {
        "papermill": {
          "duration": 0.028727,
          "end_time": "2023-07-26T07:58:22.308702",
          "exception": false,
          "start_time": "2023-07-26T07:58:22.279975",
          "status": "completed"
        },
        "tags": [],
        "id": "bd2c1dac"
      },
      "source": [
        "Now let's remove the cancelled purchases from our dataframe"
      ]
    },
    {
      "cell_type": "code",
      "execution_count": null,
      "id": "bcc1263e",
      "metadata": {
        "execution": {
          "iopub.execute_input": "2023-07-26T07:58:22.369269Z",
          "iopub.status.busy": "2023-07-26T07:58:22.368587Z",
          "iopub.status.idle": "2023-07-26T07:58:22.465378Z",
          "shell.execute_reply": "2023-07-26T07:58:22.464048Z"
        },
        "papermill": {
          "duration": 0.130435,
          "end_time": "2023-07-26T07:58:22.468206",
          "exception": false,
          "start_time": "2023-07-26T07:58:22.337771",
          "status": "completed"
        },
        "tags": [],
        "id": "bcc1263e"
      },
      "outputs": [],
      "source": [
        "data = data[data['Quantity']>0] #we modified our dataframe data to contain only purchased product"
      ]
    },
    {
      "cell_type": "code",
      "execution_count": null,
      "id": "2d184b66",
      "metadata": {
        "execution": {
          "iopub.execute_input": "2023-07-26T07:58:22.527981Z",
          "iopub.status.busy": "2023-07-26T07:58:22.527553Z",
          "iopub.status.idle": "2023-07-26T07:58:22.535834Z",
          "shell.execute_reply": "2023-07-26T07:58:22.534706Z"
        },
        "papermill": {
          "duration": 0.040676,
          "end_time": "2023-07-26T07:58:22.538022",
          "exception": false,
          "start_time": "2023-07-26T07:58:22.497346",
          "status": "completed"
        },
        "tags": [],
        "id": "2d184b66",
        "outputId": "e8748e41-7f31-4eeb-e54a-6862ce356fc6"
      },
      "outputs": [
        {
          "data": {
            "text/plain": [
              "1"
            ]
          },
          "execution_count": 31,
          "metadata": {},
          "output_type": "execute_result"
        }
      ],
      "source": [
        "data['Quantity'].min() # check min to confirm for positive quantity"
      ]
    },
    {
      "cell_type": "markdown",
      "id": "008ae07d",
      "metadata": {
        "papermill": {
          "duration": 0.028811,
          "end_time": "2023-07-26T07:58:22.595878",
          "exception": false,
          "start_time": "2023-07-26T07:58:22.567067",
          "status": "completed"
        },
        "tags": [],
        "id": "008ae07d"
      },
      "source": [
        "# Analysis"
      ]
    },
    {
      "cell_type": "markdown",
      "id": "4727e748",
      "metadata": {
        "papermill": {
          "duration": 0.029376,
          "end_time": "2023-07-26T07:58:22.654324",
          "exception": false,
          "start_time": "2023-07-26T07:58:22.624948",
          "status": "completed"
        },
        "tags": [],
        "id": "4727e748"
      },
      "source": [
        "# 1) What was the best month for sales?"
      ]
    },
    {
      "cell_type": "code",
      "execution_count": null,
      "id": "917fb589",
      "metadata": {
        "execution": {
          "iopub.execute_input": "2023-07-26T07:58:22.715005Z",
          "iopub.status.busy": "2023-07-26T07:58:22.713821Z",
          "iopub.status.idle": "2023-07-26T07:58:22.876773Z",
          "shell.execute_reply": "2023-07-26T07:58:22.875427Z"
        },
        "papermill": {
          "duration": 0.196156,
          "end_time": "2023-07-26T07:58:22.879514",
          "exception": false,
          "start_time": "2023-07-26T07:58:22.683358",
          "status": "completed"
        },
        "tags": [],
        "id": "917fb589",
        "outputId": "920cff14-f4ba-43bb-d54c-1646e9a6df97"
      },
      "outputs": [
        {
          "name": "stderr",
          "output_type": "stream",
          "text": [
            "/tmp/ipykernel_20/863993468.py:2: FutureWarning: The default value of numeric_only in DataFrameGroupBy.sum is deprecated. In a future version, numeric_only will default to False. Either specify numeric_only or select only columns which should be valid for the function.\n",
            "  sales_2010 = data[data['Year']== 2010].groupby('Month').sum()[['Total']].reset_index()\n",
            "/tmp/ipykernel_20/863993468.py:3: FutureWarning: The default value of numeric_only in DataFrameGroupBy.sum is deprecated. In a future version, numeric_only will default to False. Either specify numeric_only or select only columns which should be valid for the function.\n",
            "  sales_2011 = data[data['Year']== 2011].groupby('Month').sum()[['Total']].reset_index()\n"
          ]
        }
      ],
      "source": [
        "#[['Total']] means that it will sum up on Total field and display as Month | Total\n",
        "sales_2010 = data[data['Year']== 2010].groupby('Month').sum()[['Total']].reset_index()\n",
        "sales_2011 = data[data['Year']== 2011].groupby('Month').sum()[['Total']].reset_index()\n"
      ]
    },
    {
      "cell_type": "code",
      "execution_count": null,
      "id": "c44d15b1",
      "metadata": {
        "execution": {
          "iopub.execute_input": "2023-07-26T07:58:22.941155Z",
          "iopub.status.busy": "2023-07-26T07:58:22.940764Z",
          "iopub.status.idle": "2023-07-26T07:58:22.949425Z",
          "shell.execute_reply": "2023-07-26T07:58:22.948351Z"
        },
        "papermill": {
          "duration": 0.042978,
          "end_time": "2023-07-26T07:58:22.952140",
          "exception": false,
          "start_time": "2023-07-26T07:58:22.909162",
          "status": "completed"
        },
        "tags": [],
        "id": "c44d15b1"
      },
      "outputs": [],
      "source": [
        "#let's get a list of years to know which years are present\n",
        "years = data['Year'].unique()\n"
      ]
    },
    {
      "cell_type": "code",
      "execution_count": null,
      "id": "18f8cb33",
      "metadata": {
        "execution": {
          "iopub.execute_input": "2023-07-26T07:58:23.014160Z",
          "iopub.status.busy": "2023-07-26T07:58:23.013754Z",
          "iopub.status.idle": "2023-07-26T07:58:23.024598Z",
          "shell.execute_reply": "2023-07-26T07:58:23.022842Z"
        },
        "papermill": {
          "duration": 0.045869,
          "end_time": "2023-07-26T07:58:23.027632",
          "exception": false,
          "start_time": "2023-07-26T07:58:22.981763",
          "status": "completed"
        },
        "tags": [],
        "id": "18f8cb33",
        "outputId": "9ecf61c0-0f63-49ac-d7c9-5c5a0cf32db3"
      },
      "outputs": [
        {
          "name": "stdout",
          "output_type": "stream",
          "text": [
            "[2010 2011]\n"
          ]
        }
      ],
      "source": [
        "years = data['Year'].unique()\n",
        "print(years)\n"
      ]
    },
    {
      "cell_type": "code",
      "execution_count": null,
      "id": "ea222b4f",
      "metadata": {
        "execution": {
          "iopub.execute_input": "2023-07-26T07:58:23.088840Z",
          "iopub.status.busy": "2023-07-26T07:58:23.088434Z",
          "iopub.status.idle": "2023-07-26T07:58:23.514016Z",
          "shell.execute_reply": "2023-07-26T07:58:23.512768Z"
        },
        "papermill": {
          "duration": 0.459129,
          "end_time": "2023-07-26T07:58:23.516711",
          "exception": false,
          "start_time": "2023-07-26T07:58:23.057582",
          "status": "completed"
        },
        "tags": [],
        "id": "ea222b4f",
        "outputId": "eadcca4c-bc5b-4b70-a74d-08bae50e7a1c"
      },
      "outputs": [
        {
          "data": {
            "image/png": "[encoded data removed]",
            "text/plain": [
              "<Figure size 640x480 with 1 Axes>"
            ]
          },
          "metadata": {},
          "output_type": "display_data"
        }
      ],
      "source": [
        "plt.bar(sales_2010[\"Month\"],sales_2010['Total']/1000, label='2010 Sales', color='blue')\n",
        "plt.bar(sales_2011[\"Month\"],sales_2011['Total']/1000, label='2011 Sales', color='orange')\n",
        "plt.xticks(rotation = 'vertical',size = 8)\n",
        "plt.ylabel(\"Sales (thousand)\")\n",
        "plt.xlabel(\"Month\")\n",
        "plt.legend()\n",
        "plt.show()\n",
        "#we can use plt.savefig('my_plot.png') to save the plot, but remove plt.show()"
      ]
    },
    {
      "cell_type": "markdown",
      "id": "3d57f81e",
      "metadata": {
        "papermill": {
          "duration": 0.029592,
          "end_time": "2023-07-26T07:58:23.576683",
          "exception": false,
          "start_time": "2023-07-26T07:58:23.547091",
          "status": "completed"
        },
        "tags": [],
        "id": "3d57f81e"
      },
      "source": [
        "Based on the analysis, it was found that the month with the highest total sales in 2011 was November, followed by October and\n",
        "September, while April and February had the least total sales. As for the year 2010, data was only available for December.\n"
      ]
    },
    {
      "cell_type": "markdown",
      "id": "0b991ef7",
      "metadata": {
        "papermill": {
          "duration": 0.029907,
          "end_time": "2023-07-26T07:58:23.636433",
          "exception": false,
          "start_time": "2023-07-26T07:58:23.606526",
          "status": "completed"
        },
        "tags": [],
        "id": "0b991ef7"
      },
      "source": [
        "# 2) What time should we display advertisements to maximize likelihood of customer's buying product?"
      ]
    },
    {
      "cell_type": "code",
      "execution_count": null,
      "id": "92613c19",
      "metadata": {
        "execution": {
          "iopub.execute_input": "2023-07-26T07:58:23.698046Z",
          "iopub.status.busy": "2023-07-26T07:58:23.697644Z",
          "iopub.status.idle": "2023-07-26T07:58:23.754709Z",
          "shell.execute_reply": "2023-07-26T07:58:23.753195Z"
        },
        "papermill": {
          "duration": 0.091332,
          "end_time": "2023-07-26T07:58:23.757429",
          "exception": false,
          "start_time": "2023-07-26T07:58:23.666097",
          "status": "completed"
        },
        "tags": [],
        "id": "92613c19"
      },
      "outputs": [],
      "source": [
        "#lets create a new column for hours, fetched from InvoiceDate field\n",
        "data['Hour']=data['InvoiceDate'].dt.hour"
      ]
    },
    {
      "cell_type": "code",
      "execution_count": null,
      "id": "73b5f6aa",
      "metadata": {
        "execution": {
          "iopub.execute_input": "2023-07-26T07:58:23.821766Z",
          "iopub.status.busy": "2023-07-26T07:58:23.821285Z",
          "iopub.status.idle": "2023-07-26T07:58:25.033593Z",
          "shell.execute_reply": "2023-07-26T07:58:25.032388Z"
        },
        "papermill": {
          "duration": 1.246984,
          "end_time": "2023-07-26T07:58:25.036592",
          "exception": false,
          "start_time": "2023-07-26T07:58:23.789608",
          "status": "completed"
        },
        "tags": [],
        "id": "73b5f6aa"
      },
      "outputs": [],
      "source": [
        "BestTimeAdds = data.groupby('Hour').count().reset_index()"
      ]
    },
    {
      "cell_type": "code",
      "execution_count": null,
      "id": "db083b4f",
      "metadata": {
        "execution": {
          "iopub.execute_input": "2023-07-26T07:58:25.099868Z",
          "iopub.status.busy": "2023-07-26T07:58:25.099061Z",
          "iopub.status.idle": "2023-07-26T07:58:25.471361Z",
          "shell.execute_reply": "2023-07-26T07:58:25.470142Z"
        },
        "papermill": {
          "duration": 0.407223,
          "end_time": "2023-07-26T07:58:25.474017",
          "exception": false,
          "start_time": "2023-07-26T07:58:25.066794",
          "status": "completed"
        },
        "tags": [],
        "id": "db083b4f",
        "outputId": "3aed561c-c426-440f-fbd6-0d4b2264c4d1"
      },
      "outputs": [
        {
          "data": {
            "image/png": "[encoded data removed]",
            "text/plain": [
              "<Figure size 640x480 with 1 Axes>"
            ]
          },
          "metadata": {},
          "output_type": "display_data"
        }
      ],
      "source": [
        "from matplotlib.ticker import StrMethodFormatter\n",
        "plt.plot(BestTimeAdds['Hour'],BestTimeAdds['InvoiceNo']/1000)\n",
        "plt.xlabel('Hour')\n",
        "plt.ylabel('Sales')\n",
        "plt.grid()\n",
        "formatter = StrMethodFormatter('{x:.0f}k')\n",
        "plt.gca().yaxis.set_major_formatter(formatter)\n",
        "plt.show()"
      ]
    },
    {
      "cell_type": "markdown",
      "id": "6e55c233",
      "metadata": {
        "papermill": {
          "duration": 0.030227,
          "end_time": "2023-07-26T07:58:25.535271",
          "exception": false,
          "start_time": "2023-07-26T07:58:25.505044",
          "status": "completed"
        },
        "tags": [],
        "id": "6e55c233"
      },
      "source": [
        "According to the data, the ideal time for this e-commerce company to run ads is between 12PM and 3PM as this time period yields the\n",
        "highest sales.\n",
        "It is possible that this is because customers are more likely to be available during their break times and are more likely to use their mobile\n",
        "devices or computers during these hours."
      ]
    },
    {
      "cell_type": "markdown",
      "id": "1ab48973",
      "metadata": {
        "papermill": {
          "duration": 0.030185,
          "end_time": "2023-07-26T07:58:25.596181",
          "exception": false,
          "start_time": "2023-07-26T07:58:25.565996",
          "status": "completed"
        },
        "tags": [],
        "id": "1ab48973"
      },
      "source": [
        "# 3) What Products are most often sold together"
      ]
    },
    {
      "cell_type": "code",
      "execution_count": null,
      "id": "79cf3768",
      "metadata": {
        "execution": {
          "iopub.execute_input": "2023-07-26T07:58:25.659325Z",
          "iopub.status.busy": "2023-07-26T07:58:25.658904Z",
          "iopub.status.idle": "2023-07-26T07:58:26.507826Z",
          "shell.execute_reply": "2023-07-26T07:58:26.506473Z"
        },
        "papermill": {
          "duration": 0.883981,
          "end_time": "2023-07-26T07:58:26.510861",
          "exception": false,
          "start_time": "2023-07-26T07:58:25.626880",
          "status": "completed"
        },
        "tags": [],
        "id": "79cf3768"
      },
      "outputs": [],
      "source": [
        "soldTogether = data.groupby(\"InvoiceNo\")['Description'].agg(lambda x : \" , \".join(x)).reset_index()"
      ]
    },
    {
      "cell_type": "code",
      "execution_count": null,
      "id": "92da7d2e",
      "metadata": {
        "execution": {
          "iopub.execute_input": "2023-07-26T07:58:26.577329Z",
          "iopub.status.busy": "2023-07-26T07:58:26.576863Z",
          "iopub.status.idle": "2023-07-26T07:58:26.590055Z",
          "shell.execute_reply": "2023-07-26T07:58:26.588910Z"
        },
        "papermill": {
          "duration": 0.048892,
          "end_time": "2023-07-26T07:58:26.592425",
          "exception": false,
          "start_time": "2023-07-26T07:58:26.543533",
          "status": "completed"
        },
        "tags": [],
        "id": "92da7d2e",
        "outputId": "39958359-49dd-461a-f44e-718182462127"
      },
      "outputs": [
        {
          "data": {
            "text/html": [
              "<div>\n",
              "<style scoped>\n",
              "    .dataframe tbody tr th:only-of-type {\n",
              "        vertical-align: middle;\n",
              "    }\n",
              "\n",
              "    .dataframe tbody tr th {\n",
              "        vertical-align: top;\n",
              "    }\n",
              "\n",
              "    .dataframe thead th {\n",
              "        text-align: right;\n",
              "    }\n",
              "</style>\n",
              "<table border=\"1\" class=\"dataframe\">\n",
              "  <thead>\n",
              "    <tr style=\"text-align: right;\">\n",
              "      <th></th>\n",
              "      <th>InvoiceNo</th>\n",
              "      <th>Description</th>\n",
              "    </tr>\n",
              "  </thead>\n",
              "  <tbody>\n",
              "    <tr>\n",
              "      <th>0</th>\n",
              "      <td>536365</td>\n",
              "      <td>WHITE HANGING HEART T-LIGHT HOLDER , WHITE MET...</td>\n",
              "    </tr>\n",
              "    <tr>\n",
              "      <th>1</th>\n",
              "      <td>536366</td>\n",
              "      <td>HAND WARMER UNION JACK , HAND WARMER RED POLKA...</td>\n",
              "    </tr>\n",
              "    <tr>\n",
              "      <th>2</th>\n",
              "      <td>536367</td>\n",
              "      <td>ASSORTED COLOUR BIRD ORNAMENT , POPPY'S PLAYHO...</td>\n",
              "    </tr>\n",
              "    <tr>\n",
              "      <th>3</th>\n",
              "      <td>536368</td>\n",
              "      <td>JAM MAKING SET WITH JARS , RED COAT RACK PARIS...</td>\n",
              "    </tr>\n",
              "    <tr>\n",
              "      <th>4</th>\n",
              "      <td>536369</td>\n",
              "      <td>BATH BUILDING BLOCK WORD</td>\n",
              "    </tr>\n",
              "    <tr>\n",
              "      <th>...</th>\n",
              "      <td>...</td>\n",
              "      <td>...</td>\n",
              "    </tr>\n",
              "    <tr>\n",
              "      <th>19954</th>\n",
              "      <td>581583</td>\n",
              "      <td>LUNCH BAG RED RETROSPOT , 6 CHOCOLATE LOVE HEA...</td>\n",
              "    </tr>\n",
              "    <tr>\n",
              "      <th>19955</th>\n",
              "      <td>581584</td>\n",
              "      <td>RED FLOCK LOVE HEART PHOTO FRAME , 6 CHOCOLATE...</td>\n",
              "    </tr>\n",
              "    <tr>\n",
              "      <th>19956</th>\n",
              "      <td>581585</td>\n",
              "      <td>BLACK TEA TOWEL CLASSIC DESIGN , ASSORTED BOTT...</td>\n",
              "    </tr>\n",
              "    <tr>\n",
              "      <th>19957</th>\n",
              "      <td>581586</td>\n",
              "      <td>LARGE CAKE STAND  HANGING STRAWBERY , SET OF 3...</td>\n",
              "    </tr>\n",
              "    <tr>\n",
              "      <th>19958</th>\n",
              "      <td>581587</td>\n",
              "      <td>CIRCUS PARADE LUNCH BOX  , PLASTERS IN TIN CIR...</td>\n",
              "    </tr>\n",
              "  </tbody>\n",
              "</table>\n",
              "<p>19959 rows × 2 columns</p>\n",
              "</div>"
            ],
            "text/plain": [
              "      InvoiceNo                                        Description\n",
              "0        536365  WHITE HANGING HEART T-LIGHT HOLDER , WHITE MET...\n",
              "1        536366  HAND WARMER UNION JACK , HAND WARMER RED POLKA...\n",
              "2        536367  ASSORTED COLOUR BIRD ORNAMENT , POPPY'S PLAYHO...\n",
              "3        536368  JAM MAKING SET WITH JARS , RED COAT RACK PARIS...\n",
              "4        536369                           BATH BUILDING BLOCK WORD\n",
              "...         ...                                                ...\n",
              "19954    581583  LUNCH BAG RED RETROSPOT , 6 CHOCOLATE LOVE HEA...\n",
              "19955    581584  RED FLOCK LOVE HEART PHOTO FRAME , 6 CHOCOLATE...\n",
              "19956    581585  BLACK TEA TOWEL CLASSIC DESIGN , ASSORTED BOTT...\n",
              "19957    581586  LARGE CAKE STAND  HANGING STRAWBERY , SET OF 3...\n",
              "19958    581587  CIRCUS PARADE LUNCH BOX  , PLASTERS IN TIN CIR...\n",
              "\n",
              "[19959 rows x 2 columns]"
            ]
          },
          "execution_count": 40,
          "metadata": {},
          "output_type": "execute_result"
        }
      ],
      "source": [
        "soldTogether #we got items that are sold together, separated by \",\""
      ]
    },
    {
      "cell_type": "code",
      "execution_count": null,
      "id": "ef333cb2",
      "metadata": {
        "execution": {
          "iopub.execute_input": "2023-07-26T07:58:26.657836Z",
          "iopub.status.busy": "2023-07-26T07:58:26.657400Z",
          "iopub.status.idle": "2023-07-26T07:59:06.102103Z",
          "shell.execute_reply": "2023-07-26T07:59:06.100716Z"
        },
        "papermill": {
          "duration": 39.511628,
          "end_time": "2023-07-26T07:59:06.135415",
          "exception": false,
          "start_time": "2023-07-26T07:58:26.623787",
          "status": "completed"
        },
        "tags": [],
        "id": "ef333cb2",
        "outputId": "9a2ba56e-0731-4f2d-f571-5f7db76a08f2"
      },
      "outputs": [
        {
          "name": "stdout",
          "output_type": "stream",
          "text": [
            "(' KEY FOB ', ' KEY FOB ') 743\n",
            "(' KEY FOB ', ' BACK DOOR  ') 544\n",
            "(' KEY FOB ', ' SHED ') 511\n",
            "(' JUMBO BAG PINK POLKADOT ', ' JUMBO BAG RED RETROSPOT ') 477\n",
            "(' KEY FOB ', ' FRONT  DOOR  ') 455\n",
            "(' GREEN REGENCY TEACUP AND SAUCER ', ' ROSES REGENCY TEACUP AND SAUCER  ') 443\n",
            "('COFFEE', 'SUGAR ') 432\n",
            "(' JUMBO SHOPPER VINTAGE RED PAISLEY ', ' JUMBO BAG RED RETROSPOT ') 427\n",
            "(' SET 3 RETROSPOT TEA', 'COFFEE') 426\n",
            "(' SET 3 RETROSPOT TEA', 'SUGAR ') 414\n"
          ]
        }
      ],
      "source": [
        "from itertools import combinations\n",
        "from collections import Counter\n",
        "count = Counter()\n",
        "for row in soldTogether['Description']:\n",
        "    row_list = row.split(\",\")\n",
        "    #item mostly solved together , here it shows 2 items sold together,we can change it to 3\n",
        "    #to show 3 items sold together and so on ...\n",
        "    count.update(Counter(combinations(row_list,2)))\n",
        "#most_common is method from collections\n",
        "for key,value in count.most_common(10):\n",
        "    print(key,value)"
      ]
    },
    {
      "cell_type": "markdown",
      "id": "f3ff0c26",
      "metadata": {
        "papermill": {
          "duration": 0.030629,
          "end_time": "2023-07-26T07:59:06.196829",
          "exception": false,
          "start_time": "2023-07-26T07:59:06.166200",
          "status": "completed"
        },
        "tags": [],
        "id": "f3ff0c26"
      },
      "source": [
        "Analysis (Pair Products) : we can see that Key Fob are mostly sold with extra pair of Key Fob or with Back Door or with Shed. And so\n",
        "on...\n",
        "FeedBack : we can recommend our customer in buying these items while purchasing for one item, this way we can enhance sales.\n"
      ]
    },
    {
      "cell_type": "markdown",
      "id": "20ef4ecf",
      "metadata": {
        "papermill": {
          "duration": 0.030849,
          "end_time": "2023-07-26T07:59:06.258504",
          "exception": false,
          "start_time": "2023-07-26T07:59:06.227655",
          "status": "completed"
        },
        "tags": [],
        "id": "20ef4ecf"
      },
      "source": [
        "# 4) What product sold the most ?"
      ]
    },
    {
      "cell_type": "code",
      "execution_count": null,
      "id": "7a866bc8",
      "metadata": {
        "execution": {
          "iopub.execute_input": "2023-07-26T07:59:06.323521Z",
          "iopub.status.busy": "2023-07-26T07:59:06.323061Z",
          "iopub.status.idle": "2023-07-26T07:59:06.436028Z",
          "shell.execute_reply": "2023-07-26T07:59:06.434775Z"
        },
        "papermill": {
          "duration": 0.148819,
          "end_time": "2023-07-26T07:59:06.438632",
          "exception": false,
          "start_time": "2023-07-26T07:59:06.289813",
          "status": "completed"
        },
        "tags": [],
        "id": "7a866bc8",
        "outputId": "a1099afe-2dfd-49e9-8236-602209eae855"
      },
      "outputs": [
        {
          "name": "stderr",
          "output_type": "stream",
          "text": [
            "/tmp/ipykernel_20/3116987021.py:1: FutureWarning: The default value of numeric_only in DataFrameGroupBy.sum is deprecated. In a future version, numeric_only will default to False. Either specify numeric_only or select only columns which should be valid for the function.\n",
            "  soldMost = data.groupby('Description').sum()[['Quantity']].reset_index()\n"
          ]
        }
      ],
      "source": [
        "soldMost = data.groupby('Description').sum()[['Quantity']].reset_index()"
      ]
    },
    {
      "cell_type": "code",
      "execution_count": null,
      "id": "969d9615",
      "metadata": {
        "execution": {
          "iopub.execute_input": "2023-07-26T07:59:06.504707Z",
          "iopub.status.busy": "2023-07-26T07:59:06.504257Z",
          "iopub.status.idle": "2023-07-26T07:59:06.517692Z",
          "shell.execute_reply": "2023-07-26T07:59:06.516410Z"
        },
        "papermill": {
          "duration": 0.05014,
          "end_time": "2023-07-26T07:59:06.520034",
          "exception": false,
          "start_time": "2023-07-26T07:59:06.469894",
          "status": "completed"
        },
        "tags": [],
        "id": "969d9615",
        "outputId": "218ad471-9872-4725-ee74-18adf5609016"
      },
      "outputs": [
        {
          "data": {
            "text/html": [
              "<div>\n",
              "<style scoped>\n",
              "    .dataframe tbody tr th:only-of-type {\n",
              "        vertical-align: middle;\n",
              "    }\n",
              "\n",
              "    .dataframe tbody tr th {\n",
              "        vertical-align: top;\n",
              "    }\n",
              "\n",
              "    .dataframe thead th {\n",
              "        text-align: right;\n",
              "    }\n",
              "</style>\n",
              "<table border=\"1\" class=\"dataframe\">\n",
              "  <thead>\n",
              "    <tr style=\"text-align: right;\">\n",
              "      <th></th>\n",
              "      <th>Description</th>\n",
              "      <th>Quantity</th>\n",
              "    </tr>\n",
              "  </thead>\n",
              "  <tbody>\n",
              "    <tr>\n",
              "      <th>2386</th>\n",
              "      <td>PAPER CRAFT , LITTLE BIRDIE</td>\n",
              "      <td>80995</td>\n",
              "    </tr>\n",
              "    <tr>\n",
              "      <th>2051</th>\n",
              "      <td>MEDIUM CERAMIC TOP STORAGE JAR</td>\n",
              "      <td>78033</td>\n",
              "    </tr>\n",
              "    <tr>\n",
              "      <th>3933</th>\n",
              "      <td>WORLD WAR 2 GLIDERS ASSTD DESIGNS</td>\n",
              "      <td>54951</td>\n",
              "    </tr>\n",
              "    <tr>\n",
              "      <th>1815</th>\n",
              "      <td>JUMBO BAG RED RETROSPOT</td>\n",
              "      <td>48371</td>\n",
              "    </tr>\n",
              "    <tr>\n",
              "      <th>3843</th>\n",
              "      <td>WHITE HANGING HEART T-LIGHT HOLDER</td>\n",
              "      <td>37872</td>\n",
              "    </tr>\n",
              "  </tbody>\n",
              "</table>\n",
              "</div>"
            ],
            "text/plain": [
              "                             Description  Quantity\n",
              "2386         PAPER CRAFT , LITTLE BIRDIE     80995\n",
              "2051      MEDIUM CERAMIC TOP STORAGE JAR     78033\n",
              "3933   WORLD WAR 2 GLIDERS ASSTD DESIGNS     54951\n",
              "1815             JUMBO BAG RED RETROSPOT     48371\n",
              "3843  WHITE HANGING HEART T-LIGHT HOLDER     37872"
            ]
          },
          "execution_count": 43,
          "metadata": {},
          "output_type": "execute_result"
        }
      ],
      "source": [
        "soldMost = soldMost.sort_values('Quantity',ascending = False ).head(5) #the data was big for products so i have\n",
        "#just got results for top 10\n",
        "soldMost"
      ]
    },
    {
      "cell_type": "code",
      "execution_count": null,
      "id": "f7804282",
      "metadata": {
        "execution": {
          "iopub.execute_input": "2023-07-26T07:59:06.585265Z",
          "iopub.status.busy": "2023-07-26T07:59:06.584454Z",
          "iopub.status.idle": "2023-07-26T07:59:07.093350Z",
          "shell.execute_reply": "2023-07-26T07:59:07.091794Z"
        },
        "papermill": {
          "duration": 0.544396,
          "end_time": "2023-07-26T07:59:07.096033",
          "exception": false,
          "start_time": "2023-07-26T07:59:06.551637",
          "status": "completed"
        },
        "tags": [],
        "id": "f7804282",
        "outputId": "70192b25-d4e0-40ec-9e05-9945383cf29f"
      },
      "outputs": [
        {
          "data": {
            "text/plain": [
              "Text(0, 0.5, 'Product Description')"
            ]
          },
          "execution_count": 44,
          "metadata": {},
          "output_type": "execute_result"
        },
        {
          "data": {
            "image/png": "[encoded data removed]",
            "text/plain": [
              "<Figure size 1000x500 with 1 Axes>"
            ]
          },
          "metadata": {},
          "output_type": "display_data"
        }
      ],
      "source": [
        "#Choosing Palette and reverse it\n",
        "Palette = sns.color_palette('Blues_d')\n",
        "Palette.reverse()\n",
        "plt.figure(figsize = (10,5))\n",
        "#Visualizing\n",
        "ax =sns.barplot(y = 'Description' , x= 'Quantity' , data = soldMost, palette = Palette)\n",
        "#Data labels\n",
        "ax.bar_label(ax.containers[0])\n",
        "#Setting Title\n",
        "plt.title('Products with Highest Quantites Sold')\n",
        "plt.ylabel('Product Description')"
      ]
    },
    {
      "cell_type": "markdown",
      "id": "cf0298df",
      "metadata": {
        "papermill": {
          "duration": 0.032789,
          "end_time": "2023-07-26T07:59:07.161751",
          "exception": false,
          "start_time": "2023-07-26T07:59:07.128962",
          "status": "completed"
        },
        "tags": [],
        "id": "cf0298df"
      },
      "source": [
        "Analysis : We can see that these items are sold the most from the company's website, out of them Paper Craft are sold most with approx\n",
        "81k quantity"
      ]
    },
    {
      "cell_type": "markdown",
      "id": "63110370",
      "metadata": {
        "papermill": {
          "duration": 0.036988,
          "end_time": "2023-07-26T07:59:07.231759",
          "exception": false,
          "start_time": "2023-07-26T07:59:07.194771",
          "status": "completed"
        },
        "tags": [],
        "id": "63110370"
      },
      "source": [
        "# 4) Which countries have more customers?"
      ]
    },
    {
      "cell_type": "code",
      "execution_count": null,
      "id": "8fc6ca82",
      "metadata": {
        "execution": {
          "iopub.execute_input": "2023-07-26T07:59:07.308945Z",
          "iopub.status.busy": "2023-07-26T07:59:07.308349Z",
          "iopub.status.idle": "2023-07-26T07:59:07.411687Z",
          "shell.execute_reply": "2023-07-26T07:59:07.410153Z"
        },
        "papermill": {
          "duration": 0.141486,
          "end_time": "2023-07-26T07:59:07.414576",
          "exception": false,
          "start_time": "2023-07-26T07:59:07.273090",
          "status": "completed"
        },
        "tags": [],
        "id": "8fc6ca82"
      },
      "outputs": [],
      "source": [
        "custCountry = data['Country'].value_counts().reset_index(drop = False).head(10)\n",
        "custCountry.columns = ['Country','Counts'] # renaming the columns"
      ]
    },
    {
      "cell_type": "code",
      "execution_count": null,
      "id": "ae3a8831",
      "metadata": {
        "execution": {
          "iopub.execute_input": "2023-07-26T07:59:07.493274Z",
          "iopub.status.busy": "2023-07-26T07:59:07.492216Z",
          "iopub.status.idle": "2023-07-26T07:59:08.554389Z",
          "shell.execute_reply": "2023-07-26T07:59:08.553204Z"
        },
        "papermill": {
          "duration": 1.106346,
          "end_time": "2023-07-26T07:59:08.557543",
          "exception": false,
          "start_time": "2023-07-26T07:59:07.451197",
          "status": "completed"
        },
        "tags": [],
        "id": "ae3a8831",
        "outputId": "e1356d15-3c5c-4fd9-9020-385ebf838bc4"
      },
      "outputs": [
        {
          "data": {
            "image/png": "[encoded data removed]",
            "text/plain": [
              "<Figure size 2000x1000 with 1 Axes>"
            ]
          },
          "metadata": {},
          "output_type": "display_data"
        }
      ],
      "source": [
        "plt.figure(figsize = (20,10))\n",
        "ax =sns.barplot(x= 'Country', y = 'Counts' , data = custCountry, palette = 'coolwarm')\n",
        "ax.bar_label(ax.containers[0])\n",
        "plt.title(\"Customer Distribution Country-Wise\",fontsize=20)\n",
        "plt.ylabel(\"Orders\",fontsize = 16)\n",
        "plt.xlabel('Country',fontsize = 16)\n",
        "plt.xticks(fontsize = 14)\n",
        "plt.yscale('log')"
      ]
    },
    {
      "cell_type": "markdown",
      "id": "74bcc5e5",
      "metadata": {
        "papermill": {
          "duration": 0.033028,
          "end_time": "2023-07-26T07:59:08.623932",
          "exception": false,
          "start_time": "2023-07-26T07:59:08.590904",
          "status": "completed"
        },
        "tags": [],
        "id": "74bcc5e5"
      },
      "source": [
        "# 4) which day has more number of sales?"
      ]
    },
    {
      "cell_type": "code",
      "execution_count": null,
      "id": "8ab42456",
      "metadata": {
        "execution": {
          "iopub.execute_input": "2023-07-26T07:59:08.693007Z",
          "iopub.status.busy": "2023-07-26T07:59:08.692566Z",
          "iopub.status.idle": "2023-07-26T07:59:09.802773Z",
          "shell.execute_reply": "2023-07-26T07:59:09.801473Z"
        },
        "papermill": {
          "duration": 1.148922,
          "end_time": "2023-07-26T07:59:09.806200",
          "exception": false,
          "start_time": "2023-07-26T07:59:08.657278",
          "status": "completed"
        },
        "tags": [],
        "id": "8ab42456",
        "outputId": "dfb006fd-77f0-4385-b4ce-ea8e30afa970"
      },
      "outputs": [
        {
          "data": {
            "text/html": [
              "<div>\n",
              "<style scoped>\n",
              "    .dataframe tbody tr th:only-of-type {\n",
              "        vertical-align: middle;\n",
              "    }\n",
              "\n",
              "    .dataframe tbody tr th {\n",
              "        vertical-align: top;\n",
              "    }\n",
              "\n",
              "    .dataframe thead th {\n",
              "        text-align: right;\n",
              "    }\n",
              "</style>\n",
              "<table border=\"1\" class=\"dataframe\">\n",
              "  <thead>\n",
              "    <tr style=\"text-align: right;\">\n",
              "      <th></th>\n",
              "      <th>Day</th>\n",
              "      <th>Sales</th>\n",
              "    </tr>\n",
              "  </thead>\n",
              "  <tbody>\n",
              "    <tr>\n",
              "      <th>0</th>\n",
              "      <td>Friday</td>\n",
              "      <td>79666</td>\n",
              "    </tr>\n",
              "    <tr>\n",
              "      <th>1</th>\n",
              "      <td>Monday</td>\n",
              "      <td>92466</td>\n",
              "    </tr>\n",
              "    <tr>\n",
              "      <th>2</th>\n",
              "      <td>Sunday</td>\n",
              "      <td>62339</td>\n",
              "    </tr>\n",
              "    <tr>\n",
              "      <th>3</th>\n",
              "      <td>Thursday</td>\n",
              "      <td>100213</td>\n",
              "    </tr>\n",
              "    <tr>\n",
              "      <th>4</th>\n",
              "      <td>Tuesday</td>\n",
              "      <td>98726</td>\n",
              "    </tr>\n",
              "    <tr>\n",
              "      <th>5</th>\n",
              "      <td>Wednesday</td>\n",
              "      <td>91467</td>\n",
              "    </tr>\n",
              "  </tbody>\n",
              "</table>\n",
              "</div>"
            ],
            "text/plain": [
              "         Day   Sales\n",
              "0     Friday   79666\n",
              "1     Monday   92466\n",
              "2     Sunday   62339\n",
              "3   Thursday  100213\n",
              "4    Tuesday   98726\n",
              "5  Wednesday   91467"
            ]
          },
          "execution_count": 47,
          "metadata": {},
          "output_type": "execute_result"
        }
      ],
      "source": [
        "daySales = data.groupby('Day').count()[['InvoiceNo']].reset_index()\n",
        "daySales.columns = ['Day','Sales']\n",
        "daySales.sort_values(by='Day')"
      ]
    },
    {
      "cell_type": "code",
      "execution_count": null,
      "id": "56cc33ba",
      "metadata": {
        "execution": {
          "iopub.execute_input": "2023-07-26T07:59:09.879758Z",
          "iopub.status.busy": "2023-07-26T07:59:09.879290Z",
          "iopub.status.idle": "2023-07-26T07:59:10.285464Z",
          "shell.execute_reply": "2023-07-26T07:59:10.284235Z"
        },
        "papermill": {
          "duration": 0.446116,
          "end_time": "2023-07-26T07:59:10.288141",
          "exception": false,
          "start_time": "2023-07-26T07:59:09.842025",
          "status": "completed"
        },
        "tags": [],
        "id": "56cc33ba",
        "outputId": "08755039-08b9-4fc3-cbf0-15d0e8efc8cd"
      },
      "outputs": [
        {
          "data": {
            "image/png": "[encoded data removed]",
            "text/plain": [
              "<Figure size 1000x500 with 1 Axes>"
            ]
          },
          "metadata": {},
          "output_type": "display_data"
        }
      ],
      "source": [
        "#Choosing Palette and reverse it\n",
        "Palette = sns.color_palette('Blues_d')\n",
        "Palette.reverse()\n",
        "plt.figure(figsize = (10,5))\n",
        "#Visualizing\n",
        "ax =sns.barplot(y = 'Day' , x= 'Sales' , data = daySales, palette = Palette)\n",
        "#Data labels\n",
        "ax.bar_label(ax.containers[0])\n",
        "#Setting Title\n",
        "plt.title('Distribution of Sales Day-Wise',fontsize = 16)\n",
        "plt.ylabel('Days',fontsize = 16)\n",
        "plt.xlabel('Sales',fontsize = 16)\n",
        "plt.show()"
      ]
    },
    {
      "cell_type": "markdown",
      "id": "58f4e6d0",
      "metadata": {
        "papermill": {
          "duration": 0.034526,
          "end_time": "2023-07-26T07:59:10.357600",
          "exception": false,
          "start_time": "2023-07-26T07:59:10.323074",
          "status": "completed"
        },
        "tags": [],
        "id": "58f4e6d0"
      },
      "source": [
        "RMF Analysis\n",
        "As a algorithm the RFM was used, for being an easy-to-understand model.\n",
        "\n",
        "The term RFM comes from the function of three acronyms: Recency, Frequency, and Monetary, seeking to better understand thecustomer and verify when was his last purchase, how many times he has bought and how much he has spent with the company.\n",
        "\n",
        "Recency(R) Days since the customer's last purchase Frequency(F) Number of products bought by thecustomer Monetarity(M) Totalspent on purchases\n",
        "\n",
        "Customer Score:\n",
        "\n",
        "The customer score ranges from 1 to 5, where the higher this number, the better. This score is assigned for each acronym independently:\n",
        "\n",
        "The more recent the customer's purchase the higher the Recency (R) score.\n",
        "\n",
        "The more purchases the customer makes, the higher the Frequency score (F)\n",
        "\n",
        "The more the customer spends on purchases, the higher the score the customer will have Monetarity(M)\n",
        "\n",
        "This definition of each score can be given through inference, i.e. some business definition or by quintile"
      ]
    },
    {
      "cell_type": "code",
      "execution_count": null,
      "id": "d4d5cc93",
      "metadata": {
        "execution": {
          "iopub.execute_input": "2023-07-26T07:59:10.429598Z",
          "iopub.status.busy": "2023-07-26T07:59:10.429143Z",
          "iopub.status.idle": "2023-07-26T07:59:10.909005Z",
          "shell.execute_reply": "2023-07-26T07:59:10.907772Z"
        },
        "papermill": {
          "duration": 0.51947,
          "end_time": "2023-07-26T07:59:10.911919",
          "exception": false,
          "start_time": "2023-07-26T07:59:10.392449",
          "status": "completed"
        },
        "tags": [],
        "id": "d4d5cc93"
      },
      "outputs": [],
      "source": [
        "#Ignoring Cancel orders\n",
        "copy[~copy['InvoiceNo'].str.contains('C' ,na = False)]\n",
        "#Dropping Null values in Customer ID column\n",
        "copy= copy.dropna(subset= ['CustomerID'])\n",
        "#Make Checkoutprice Column\n",
        "copy['CheckoutPrice'] = copy['UnitPrice'] * copy['Quantity']\n",
        "#Ignoring Debts\n",
        "copy =copy[copy['UnitPrice']>0]"
      ]
    },
    {
      "cell_type": "code",
      "execution_count": null,
      "id": "55e16542",
      "metadata": {
        "execution": {
          "iopub.execute_input": "2023-07-26T07:59:10.982969Z",
          "iopub.status.busy": "2023-07-26T07:59:10.982518Z",
          "iopub.status.idle": "2023-07-26T07:59:13.435590Z",
          "shell.execute_reply": "2023-07-26T07:59:13.434356Z"
        },
        "papermill": {
          "duration": 2.492503,
          "end_time": "2023-07-26T07:59:13.438722",
          "exception": false,
          "start_time": "2023-07-26T07:59:10.946219",
          "status": "completed"
        },
        "tags": [],
        "id": "55e16542"
      },
      "outputs": [],
      "source": [
        "#Dealing with datatypes\n",
        "copy['InvoiceDate'] = pd.to_datetime(copy['InvoiceDate'])\n",
        "copy['CustomerID'] = copy['CustomerID'].astype('int64')\n"
      ]
    },
    {
      "cell_type": "code",
      "execution_count": null,
      "id": "237c3848",
      "metadata": {
        "execution": {
          "iopub.execute_input": "2023-07-26T07:59:13.510051Z",
          "iopub.status.busy": "2023-07-26T07:59:13.509326Z",
          "iopub.status.idle": "2023-07-26T07:59:13.515966Z",
          "shell.execute_reply": "2023-07-26T07:59:13.515092Z"
        },
        "papermill": {
          "duration": 0.045203,
          "end_time": "2023-07-26T07:59:13.518397",
          "exception": false,
          "start_time": "2023-07-26T07:59:13.473194",
          "status": "completed"
        },
        "tags": [],
        "id": "237c3848"
      },
      "outputs": [],
      "source": [
        "recent_date = copy['InvoiceDate'].max()\n"
      ]
    },
    {
      "cell_type": "code",
      "execution_count": null,
      "id": "7f6ae8ce",
      "metadata": {
        "execution": {
          "iopub.execute_input": "2023-07-26T07:59:13.589957Z",
          "iopub.status.busy": "2023-07-26T07:59:13.589083Z",
          "iopub.status.idle": "2023-07-26T07:59:15.099218Z",
          "shell.execute_reply": "2023-07-26T07:59:15.097784Z"
        },
        "papermill": {
          "duration": 1.548688,
          "end_time": "2023-07-26T07:59:15.101796",
          "exception": false,
          "start_time": "2023-07-26T07:59:13.553108",
          "status": "completed"
        },
        "tags": [],
        "id": "7f6ae8ce",
        "outputId": "6c5a4d6e-5139-4a05-a3bb-d32ad8d8c9c6"
      },
      "outputs": [
        {
          "data": {
            "text/html": [
              "<div>\n",
              "<style scoped>\n",
              "    .dataframe tbody tr th:only-of-type {\n",
              "        vertical-align: middle;\n",
              "    }\n",
              "\n",
              "    .dataframe tbody tr th {\n",
              "        vertical-align: top;\n",
              "    }\n",
              "\n",
              "    .dataframe thead th {\n",
              "        text-align: right;\n",
              "    }\n",
              "</style>\n",
              "<table border=\"1\" class=\"dataframe\">\n",
              "  <thead>\n",
              "    <tr style=\"text-align: right;\">\n",
              "      <th></th>\n",
              "      <th>InvoiceDate</th>\n",
              "      <th>InvoiceNo</th>\n",
              "      <th>CheckoutPrice</th>\n",
              "    </tr>\n",
              "    <tr>\n",
              "      <th>CustomerID</th>\n",
              "      <th></th>\n",
              "      <th></th>\n",
              "      <th></th>\n",
              "    </tr>\n",
              "  </thead>\n",
              "  <tbody>\n",
              "    <tr>\n",
              "      <th>12346</th>\n",
              "      <td>325</td>\n",
              "      <td>2</td>\n",
              "      <td>0.00</td>\n",
              "    </tr>\n",
              "    <tr>\n",
              "      <th>12347</th>\n",
              "      <td>1</td>\n",
              "      <td>7</td>\n",
              "      <td>4310.00</td>\n",
              "    </tr>\n",
              "    <tr>\n",
              "      <th>12348</th>\n",
              "      <td>74</td>\n",
              "      <td>4</td>\n",
              "      <td>1797.24</td>\n",
              "    </tr>\n",
              "    <tr>\n",
              "      <th>12349</th>\n",
              "      <td>18</td>\n",
              "      <td>1</td>\n",
              "      <td>1757.55</td>\n",
              "    </tr>\n",
              "    <tr>\n",
              "      <th>12350</th>\n",
              "      <td>309</td>\n",
              "      <td>1</td>\n",
              "      <td>334.40</td>\n",
              "    </tr>\n",
              "    <tr>\n",
              "      <th>...</th>\n",
              "      <td>...</td>\n",
              "      <td>...</td>\n",
              "      <td>...</td>\n",
              "    </tr>\n",
              "    <tr>\n",
              "      <th>18280</th>\n",
              "      <td>277</td>\n",
              "      <td>1</td>\n",
              "      <td>180.60</td>\n",
              "    </tr>\n",
              "    <tr>\n",
              "      <th>18281</th>\n",
              "      <td>180</td>\n",
              "      <td>1</td>\n",
              "      <td>80.82</td>\n",
              "    </tr>\n",
              "    <tr>\n",
              "      <th>18282</th>\n",
              "      <td>7</td>\n",
              "      <td>3</td>\n",
              "      <td>176.60</td>\n",
              "    </tr>\n",
              "    <tr>\n",
              "      <th>18283</th>\n",
              "      <td>3</td>\n",
              "      <td>16</td>\n",
              "      <td>2045.53</td>\n",
              "    </tr>\n",
              "    <tr>\n",
              "      <th>18287</th>\n",
              "      <td>42</td>\n",
              "      <td>3</td>\n",
              "      <td>1837.28</td>\n",
              "    </tr>\n",
              "  </tbody>\n",
              "</table>\n",
              "<p>4371 rows × 3 columns</p>\n",
              "</div>"
            ],
            "text/plain": [
              "            InvoiceDate  InvoiceNo  CheckoutPrice\n",
              "CustomerID                                       \n",
              "12346               325          2           0.00\n",
              "12347                 1          7        4310.00\n",
              "12348                74          4        1797.24\n",
              "12349                18          1        1757.55\n",
              "12350               309          1         334.40\n",
              "...                 ...        ...            ...\n",
              "18280               277          1         180.60\n",
              "18281               180          1          80.82\n",
              "18282                 7          3         176.60\n",
              "18283                 3         16        2045.53\n",
              "18287                42          3        1837.28\n",
              "\n",
              "[4371 rows x 3 columns]"
            ]
          },
          "execution_count": 52,
          "metadata": {},
          "output_type": "execute_result"
        }
      ],
      "source": [
        "#Set our data to rfm Analysis\n",
        "rfm = copy.groupby('CustomerID').agg({'InvoiceDate' : lambda date : (recent_date - date.max()).days ,\n",
        "'InvoiceNo' : lambda num :num.nunique() ,\n",
        "'CheckoutPrice' : lambda CheckoutPrice :CheckoutPrice.sum()} )\n",
        "rfm"
      ]
    },
    {
      "cell_type": "code",
      "execution_count": null,
      "id": "ce665397",
      "metadata": {
        "execution": {
          "iopub.execute_input": "2023-07-26T07:59:15.174253Z",
          "iopub.status.busy": "2023-07-26T07:59:15.173822Z",
          "iopub.status.idle": "2023-07-26T07:59:15.179888Z",
          "shell.execute_reply": "2023-07-26T07:59:15.178674Z"
        },
        "papermill": {
          "duration": 0.044281,
          "end_time": "2023-07-26T07:59:15.182199",
          "exception": false,
          "start_time": "2023-07-26T07:59:15.137918",
          "status": "completed"
        },
        "tags": [],
        "id": "ce665397"
      },
      "outputs": [],
      "source": [
        "rfm.columns = ['Recency' ,'Frequency' , 'Monetary']\n"
      ]
    },
    {
      "cell_type": "code",
      "execution_count": null,
      "id": "561fbd5b",
      "metadata": {
        "execution": {
          "iopub.execute_input": "2023-07-26T07:59:15.253511Z",
          "iopub.status.busy": "2023-07-26T07:59:15.253053Z",
          "iopub.status.idle": "2023-07-26T07:59:15.258767Z",
          "shell.execute_reply": "2023-07-26T07:59:15.257682Z"
        },
        "papermill": {
          "duration": 0.044119,
          "end_time": "2023-07-26T07:59:15.261212",
          "exception": false,
          "start_time": "2023-07-26T07:59:15.217093",
          "status": "completed"
        },
        "tags": [],
        "id": "561fbd5b"
      },
      "outputs": [],
      "source": [
        "#Ignore 0 in Monatery so we will not need those customers in our analysis\n",
        "rfm = rfm[rfm['Monetary']>0]\n"
      ]
    },
    {
      "cell_type": "code",
      "execution_count": null,
      "id": "2226ab0a",
      "metadata": {
        "execution": {
          "iopub.execute_input": "2023-07-26T07:59:15.331617Z",
          "iopub.status.busy": "2023-07-26T07:59:15.331206Z",
          "iopub.status.idle": "2023-07-26T07:59:15.338951Z",
          "shell.execute_reply": "2023-07-26T07:59:15.338079Z"
        },
        "papermill": {
          "duration": 0.046086,
          "end_time": "2023-07-26T07:59:15.341691",
          "exception": false,
          "start_time": "2023-07-26T07:59:15.295605",
          "status": "completed"
        },
        "tags": [],
        "id": "2226ab0a"
      },
      "outputs": [],
      "source": [
        "#Set Recency Score\n",
        "rfm['Recency_Score'] = pd.qcut(rfm['Recency'] ,5 , labels= [5,4,3,2,1])"
      ]
    },
    {
      "cell_type": "code",
      "execution_count": null,
      "id": "e8aefd95",
      "metadata": {
        "execution": {
          "iopub.execute_input": "2023-07-26T07:59:15.415406Z",
          "iopub.status.busy": "2023-07-26T07:59:15.414617Z",
          "iopub.status.idle": "2023-07-26T07:59:15.427729Z",
          "shell.execute_reply": "2023-07-26T07:59:15.426467Z"
        },
        "papermill": {
          "duration": 0.054372,
          "end_time": "2023-07-26T07:59:15.430719",
          "exception": false,
          "start_time": "2023-07-26T07:59:15.376347",
          "status": "completed"
        },
        "tags": [],
        "id": "e8aefd95"
      },
      "outputs": [],
      "source": [
        "#Set Frequency Score\n",
        "rfm['Frequency_Score'] = pd.qcut(rfm['Frequency'].rank(method ='first') ,5 , labels= [1,2,3,4,5])"
      ]
    },
    {
      "cell_type": "code",
      "execution_count": null,
      "id": "776c7612",
      "metadata": {
        "execution": {
          "iopub.execute_input": "2023-07-26T07:59:15.501857Z",
          "iopub.status.busy": "2023-07-26T07:59:15.501398Z",
          "iopub.status.idle": "2023-07-26T07:59:15.510097Z",
          "shell.execute_reply": "2023-07-26T07:59:15.508857Z"
        },
        "papermill": {
          "duration": 0.047843,
          "end_time": "2023-07-26T07:59:15.513063",
          "exception": false,
          "start_time": "2023-07-26T07:59:15.465220",
          "status": "completed"
        },
        "tags": [],
        "id": "776c7612"
      },
      "outputs": [],
      "source": [
        "#Set Monatry Score\n",
        "rfm['Monetary_Score'] = pd.qcut(rfm['Monetary'] ,5 , labels= [1,2,3,4,5])"
      ]
    },
    {
      "cell_type": "code",
      "execution_count": null,
      "id": "16591c0b",
      "metadata": {
        "execution": {
          "iopub.execute_input": "2023-07-26T07:59:15.584281Z",
          "iopub.status.busy": "2023-07-26T07:59:15.583527Z",
          "iopub.status.idle": "2023-07-26T07:59:15.594960Z",
          "shell.execute_reply": "2023-07-26T07:59:15.593623Z"
        },
        "papermill": {
          "duration": 0.050181,
          "end_time": "2023-07-26T07:59:15.597859",
          "exception": false,
          "start_time": "2023-07-26T07:59:15.547678",
          "status": "completed"
        },
        "tags": [],
        "id": "16591c0b"
      },
      "outputs": [],
      "source": [
        "#Set RFM Score\n",
        "rfm['RFM_Score'] = (rfm['Recency_Score'].astype(str) + rfm['Frequency_Score'].astype(str) +\n",
        "rfm['Monetary_Score'].astype(str) )"
      ]
    },
    {
      "cell_type": "code",
      "execution_count": null,
      "id": "a6db5402",
      "metadata": {
        "execution": {
          "iopub.execute_input": "2023-07-26T07:59:15.668420Z",
          "iopub.status.busy": "2023-07-26T07:59:15.667964Z",
          "iopub.status.idle": "2023-07-26T07:59:15.688605Z",
          "shell.execute_reply": "2023-07-26T07:59:15.687302Z"
        },
        "papermill": {
          "duration": 0.05896,
          "end_time": "2023-07-26T07:59:15.691049",
          "exception": false,
          "start_time": "2023-07-26T07:59:15.632089",
          "status": "completed"
        },
        "tags": [],
        "id": "a6db5402",
        "outputId": "12db1ccc-e4a3-468c-d580-f285fac8a597"
      },
      "outputs": [
        {
          "data": {
            "text/html": [
              "<div>\n",
              "<style scoped>\n",
              "    .dataframe tbody tr th:only-of-type {\n",
              "        vertical-align: middle;\n",
              "    }\n",
              "\n",
              "    .dataframe tbody tr th {\n",
              "        vertical-align: top;\n",
              "    }\n",
              "\n",
              "    .dataframe thead th {\n",
              "        text-align: right;\n",
              "    }\n",
              "</style>\n",
              "<table border=\"1\" class=\"dataframe\">\n",
              "  <thead>\n",
              "    <tr style=\"text-align: right;\">\n",
              "      <th></th>\n",
              "      <th>Recency</th>\n",
              "      <th>Frequency</th>\n",
              "      <th>Monetary</th>\n",
              "      <th>Recency_Score</th>\n",
              "      <th>Frequency_Score</th>\n",
              "      <th>Monetary_Score</th>\n",
              "      <th>RFM_Score</th>\n",
              "    </tr>\n",
              "    <tr>\n",
              "      <th>CustomerID</th>\n",
              "      <th></th>\n",
              "      <th></th>\n",
              "      <th></th>\n",
              "      <th></th>\n",
              "      <th></th>\n",
              "      <th></th>\n",
              "      <th></th>\n",
              "    </tr>\n",
              "  </thead>\n",
              "  <tbody>\n",
              "    <tr>\n",
              "      <th>12347</th>\n",
              "      <td>1</td>\n",
              "      <td>7</td>\n",
              "      <td>4310.00</td>\n",
              "      <td>5</td>\n",
              "      <td>4</td>\n",
              "      <td>5</td>\n",
              "      <td>545</td>\n",
              "    </tr>\n",
              "    <tr>\n",
              "      <th>12348</th>\n",
              "      <td>74</td>\n",
              "      <td>4</td>\n",
              "      <td>1797.24</td>\n",
              "      <td>2</td>\n",
              "      <td>3</td>\n",
              "      <td>4</td>\n",
              "      <td>234</td>\n",
              "    </tr>\n",
              "    <tr>\n",
              "      <th>12349</th>\n",
              "      <td>18</td>\n",
              "      <td>1</td>\n",
              "      <td>1757.55</td>\n",
              "      <td>4</td>\n",
              "      <td>1</td>\n",
              "      <td>4</td>\n",
              "      <td>414</td>\n",
              "    </tr>\n",
              "    <tr>\n",
              "      <th>12350</th>\n",
              "      <td>309</td>\n",
              "      <td>1</td>\n",
              "      <td>334.40</td>\n",
              "      <td>1</td>\n",
              "      <td>1</td>\n",
              "      <td>2</td>\n",
              "      <td>112</td>\n",
              "    </tr>\n",
              "    <tr>\n",
              "      <th>12352</th>\n",
              "      <td>35</td>\n",
              "      <td>11</td>\n",
              "      <td>1545.41</td>\n",
              "      <td>3</td>\n",
              "      <td>5</td>\n",
              "      <td>4</td>\n",
              "      <td>354</td>\n",
              "    </tr>\n",
              "    <tr>\n",
              "      <th>...</th>\n",
              "      <td>...</td>\n",
              "      <td>...</td>\n",
              "      <td>...</td>\n",
              "      <td>...</td>\n",
              "      <td>...</td>\n",
              "      <td>...</td>\n",
              "      <td>...</td>\n",
              "    </tr>\n",
              "    <tr>\n",
              "      <th>18280</th>\n",
              "      <td>277</td>\n",
              "      <td>1</td>\n",
              "      <td>180.60</td>\n",
              "      <td>1</td>\n",
              "      <td>2</td>\n",
              "      <td>1</td>\n",
              "      <td>121</td>\n",
              "    </tr>\n",
              "    <tr>\n",
              "      <th>18281</th>\n",
              "      <td>180</td>\n",
              "      <td>1</td>\n",
              "      <td>80.82</td>\n",
              "      <td>1</td>\n",
              "      <td>2</td>\n",
              "      <td>1</td>\n",
              "      <td>121</td>\n",
              "    </tr>\n",
              "    <tr>\n",
              "      <th>18282</th>\n",
              "      <td>7</td>\n",
              "      <td>3</td>\n",
              "      <td>176.60</td>\n",
              "      <td>5</td>\n",
              "      <td>3</td>\n",
              "      <td>1</td>\n",
              "      <td>531</td>\n",
              "    </tr>\n",
              "    <tr>\n",
              "      <th>18283</th>\n",
              "      <td>3</td>\n",
              "      <td>16</td>\n",
              "      <td>2045.53</td>\n",
              "      <td>5</td>\n",
              "      <td>5</td>\n",
              "      <td>5</td>\n",
              "      <td>555</td>\n",
              "    </tr>\n",
              "    <tr>\n",
              "      <th>18287</th>\n",
              "      <td>42</td>\n",
              "      <td>3</td>\n",
              "      <td>1837.28</td>\n",
              "      <td>3</td>\n",
              "      <td>3</td>\n",
              "      <td>4</td>\n",
              "      <td>334</td>\n",
              "    </tr>\n",
              "  </tbody>\n",
              "</table>\n",
              "<p>4320 rows × 7 columns</p>\n",
              "</div>"
            ],
            "text/plain": [
              "            Recency  Frequency  Monetary Recency_Score Frequency_Score  \\\n",
              "CustomerID                                                               \n",
              "12347             1          7   4310.00             5               4   \n",
              "12348            74          4   1797.24             2               3   \n",
              "12349            18          1   1757.55             4               1   \n",
              "12350           309          1    334.40             1               1   \n",
              "12352            35         11   1545.41             3               5   \n",
              "...             ...        ...       ...           ...             ...   \n",
              "18280           277          1    180.60             1               2   \n",
              "18281           180          1     80.82             1               2   \n",
              "18282             7          3    176.60             5               3   \n",
              "18283             3         16   2045.53             5               5   \n",
              "18287            42          3   1837.28             3               3   \n",
              "\n",
              "           Monetary_Score RFM_Score  \n",
              "CustomerID                           \n",
              "12347                   5       545  \n",
              "12348                   4       234  \n",
              "12349                   4       414  \n",
              "12350                   2       112  \n",
              "12352                   4       354  \n",
              "...                   ...       ...  \n",
              "18280                   1       121  \n",
              "18281                   1       121  \n",
              "18282                   1       531  \n",
              "18283                   5       555  \n",
              "18287                   4       334  \n",
              "\n",
              "[4320 rows x 7 columns]"
            ]
          },
          "execution_count": 59,
          "metadata": {},
          "output_type": "execute_result"
        }
      ],
      "source": [
        "rfm"
      ]
    },
    {
      "cell_type": "markdown",
      "id": "2f3f64a8",
      "metadata": {
        "papermill": {
          "duration": 0.034826,
          "end_time": "2023-07-26T07:59:15.760597",
          "exception": false,
          "start_time": "2023-07-26T07:59:15.725771",
          "status": "completed"
        },
        "tags": [],
        "id": "2f3f64a8"
      },
      "source": [
        "Segmentation calculation:\n",
        "The calculation to know which segmentation the customer is in is given by averaging the F and R scores\n",
        "I see that Monetary could be deceptive , So i will segment our customers on Recency and Frequency Scores"
      ]
    },
    {
      "cell_type": "code",
      "execution_count": null,
      "id": "cd19fdc9",
      "metadata": {
        "execution": {
          "iopub.execute_input": "2023-07-26T07:59:15.833793Z",
          "iopub.status.busy": "2023-07-26T07:59:15.832601Z",
          "iopub.status.idle": "2023-07-26T07:59:15.919353Z",
          "shell.execute_reply": "2023-07-26T07:59:15.918277Z"
        },
        "papermill": {
          "duration": 0.126402,
          "end_time": "2023-07-26T07:59:15.922033",
          "exception": false,
          "start_time": "2023-07-26T07:59:15.795631",
          "status": "completed"
        },
        "tags": [],
        "id": "cd19fdc9"
      },
      "outputs": [],
      "source": [
        "#Our Customer Segmentation\n",
        "seg_map = {\n",
        "r'[1-2][1-2][1-5]': 'Hibernating',\n",
        "r'[1-2][3-4][1-5]': 'At risk',\n",
        "r'[1-2]5[1-5]' :'Cannot lose them',\n",
        "r'3[1-2][1-5]' : 'About to sleep',\n",
        "r'33[1-5]' : 'Need Attention',\n",
        "r'[3-4][4-5][1-5]' : 'Loyal Customers',\n",
        "r'[4-5][1-3][1-5]' : 'Good Potential',\n",
        "r'5[4-5][1-5]' : 'Champions',\n",
        "}\n",
        "rfm['Segment'] = rfm['RFM_Score'] .replace(seg_map ,regex =True)"
      ]
    },
    {
      "cell_type": "code",
      "execution_count": null,
      "id": "42cee6c2",
      "metadata": {
        "execution": {
          "iopub.execute_input": "2023-07-26T07:59:15.995577Z",
          "iopub.status.busy": "2023-07-26T07:59:15.994880Z",
          "iopub.status.idle": "2023-07-26T07:59:16.862386Z",
          "shell.execute_reply": "2023-07-26T07:59:16.861481Z"
        },
        "papermill": {
          "duration": 0.907142,
          "end_time": "2023-07-26T07:59:16.864872",
          "exception": false,
          "start_time": "2023-07-26T07:59:15.957730",
          "status": "completed"
        },
        "tags": [],
        "id": "42cee6c2",
        "outputId": "f834b672-0fed-4f47-f2cd-7c2011726efb"
      },
      "outputs": [
        {
          "data": {
            "image/png": "[encoded data removed]",
            "text/plain": [
              "<Figure size 640x480 with 1 Axes>"
            ]
          },
          "metadata": {},
          "output_type": "display_data"
        }
      ],
      "source": [
        "#Bar Plot for Our segments\n",
        "Segments = (rfm['Segment'].value_counts(normalize=True)* 100).reset_index(name='percentage')\n",
        "Segments = Segments.round(1)\n",
        "b =sns.barplot(y='index',x='percentage', data=Segments, palette = 'crest_r')\n",
        "for i, v in enumerate(Segments['percentage']):\n",
        "    b.text(v,i+0.20,\" {:.1f}\".format(v)+\"%\", color='black', ha=\"left\")\n",
        "    b.set_ylabel('Segmentation')\n",
        "    b.set_title('Customer Segmentation')\n"
      ]
    },
    {
      "cell_type": "code",
      "execution_count": null,
      "id": "58720ffb",
      "metadata": {
        "execution": {
          "iopub.execute_input": "2023-07-26T07:59:16.938590Z",
          "iopub.status.busy": "2023-07-26T07:59:16.937842Z",
          "iopub.status.idle": "2023-07-26T07:59:16.958522Z",
          "shell.execute_reply": "2023-07-26T07:59:16.957317Z"
        },
        "papermill": {
          "duration": 0.060842,
          "end_time": "2023-07-26T07:59:16.961457",
          "exception": false,
          "start_time": "2023-07-26T07:59:16.900615",
          "status": "completed"
        },
        "tags": [],
        "id": "58720ffb",
        "outputId": "a6e9a970-15b5-4cef-f324-0f6fef71be54"
      },
      "outputs": [
        {
          "data": {
            "text/html": [
              "<div>\n",
              "<style scoped>\n",
              "    .dataframe tbody tr th:only-of-type {\n",
              "        vertical-align: middle;\n",
              "    }\n",
              "\n",
              "    .dataframe tbody tr th {\n",
              "        vertical-align: top;\n",
              "    }\n",
              "\n",
              "    .dataframe thead th {\n",
              "        text-align: right;\n",
              "    }\n",
              "</style>\n",
              "<table border=\"1\" class=\"dataframe\">\n",
              "  <thead>\n",
              "    <tr style=\"text-align: right;\">\n",
              "      <th></th>\n",
              "      <th>Recency</th>\n",
              "      <th>Frequency</th>\n",
              "      <th>Monetary</th>\n",
              "      <th>Recency_Score</th>\n",
              "      <th>Frequency_Score</th>\n",
              "      <th>Monetary_Score</th>\n",
              "      <th>RFM_Score</th>\n",
              "      <th>Segment</th>\n",
              "    </tr>\n",
              "    <tr>\n",
              "      <th>CustomerID</th>\n",
              "      <th></th>\n",
              "      <th></th>\n",
              "      <th></th>\n",
              "      <th></th>\n",
              "      <th></th>\n",
              "      <th></th>\n",
              "      <th></th>\n",
              "      <th></th>\n",
              "    </tr>\n",
              "  </thead>\n",
              "  <tbody>\n",
              "    <tr>\n",
              "      <th>12347</th>\n",
              "      <td>1</td>\n",
              "      <td>7</td>\n",
              "      <td>4310.00</td>\n",
              "      <td>5</td>\n",
              "      <td>4</td>\n",
              "      <td>5</td>\n",
              "      <td>545</td>\n",
              "      <td>Champions</td>\n",
              "    </tr>\n",
              "    <tr>\n",
              "      <th>12348</th>\n",
              "      <td>74</td>\n",
              "      <td>4</td>\n",
              "      <td>1797.24</td>\n",
              "      <td>2</td>\n",
              "      <td>3</td>\n",
              "      <td>4</td>\n",
              "      <td>234</td>\n",
              "      <td>At risk</td>\n",
              "    </tr>\n",
              "    <tr>\n",
              "      <th>12349</th>\n",
              "      <td>18</td>\n",
              "      <td>1</td>\n",
              "      <td>1757.55</td>\n",
              "      <td>4</td>\n",
              "      <td>1</td>\n",
              "      <td>4</td>\n",
              "      <td>414</td>\n",
              "      <td>Good Potential</td>\n",
              "    </tr>\n",
              "    <tr>\n",
              "      <th>12350</th>\n",
              "      <td>309</td>\n",
              "      <td>1</td>\n",
              "      <td>334.40</td>\n",
              "      <td>1</td>\n",
              "      <td>1</td>\n",
              "      <td>2</td>\n",
              "      <td>112</td>\n",
              "      <td>Hibernating</td>\n",
              "    </tr>\n",
              "    <tr>\n",
              "      <th>12352</th>\n",
              "      <td>35</td>\n",
              "      <td>11</td>\n",
              "      <td>1545.41</td>\n",
              "      <td>3</td>\n",
              "      <td>5</td>\n",
              "      <td>4</td>\n",
              "      <td>354</td>\n",
              "      <td>Loyal Customers</td>\n",
              "    </tr>\n",
              "    <tr>\n",
              "      <th>...</th>\n",
              "      <td>...</td>\n",
              "      <td>...</td>\n",
              "      <td>...</td>\n",
              "      <td>...</td>\n",
              "      <td>...</td>\n",
              "      <td>...</td>\n",
              "      <td>...</td>\n",
              "      <td>...</td>\n",
              "    </tr>\n",
              "    <tr>\n",
              "      <th>18280</th>\n",
              "      <td>277</td>\n",
              "      <td>1</td>\n",
              "      <td>180.60</td>\n",
              "      <td>1</td>\n",
              "      <td>2</td>\n",
              "      <td>1</td>\n",
              "      <td>121</td>\n",
              "      <td>Hibernating</td>\n",
              "    </tr>\n",
              "    <tr>\n",
              "      <th>18281</th>\n",
              "      <td>180</td>\n",
              "      <td>1</td>\n",
              "      <td>80.82</td>\n",
              "      <td>1</td>\n",
              "      <td>2</td>\n",
              "      <td>1</td>\n",
              "      <td>121</td>\n",
              "      <td>Hibernating</td>\n",
              "    </tr>\n",
              "    <tr>\n",
              "      <th>18282</th>\n",
              "      <td>7</td>\n",
              "      <td>3</td>\n",
              "      <td>176.60</td>\n",
              "      <td>5</td>\n",
              "      <td>3</td>\n",
              "      <td>1</td>\n",
              "      <td>531</td>\n",
              "      <td>Good Potential</td>\n",
              "    </tr>\n",
              "    <tr>\n",
              "      <th>18283</th>\n",
              "      <td>3</td>\n",
              "      <td>16</td>\n",
              "      <td>2045.53</td>\n",
              "      <td>5</td>\n",
              "      <td>5</td>\n",
              "      <td>5</td>\n",
              "      <td>555</td>\n",
              "      <td>Champions</td>\n",
              "    </tr>\n",
              "    <tr>\n",
              "      <th>18287</th>\n",
              "      <td>42</td>\n",
              "      <td>3</td>\n",
              "      <td>1837.28</td>\n",
              "      <td>3</td>\n",
              "      <td>3</td>\n",
              "      <td>4</td>\n",
              "      <td>334</td>\n",
              "      <td>Need Attention</td>\n",
              "    </tr>\n",
              "  </tbody>\n",
              "</table>\n",
              "<p>4320 rows × 8 columns</p>\n",
              "</div>"
            ],
            "text/plain": [
              "            Recency  Frequency  Monetary Recency_Score Frequency_Score  \\\n",
              "CustomerID                                                               \n",
              "12347             1          7   4310.00             5               4   \n",
              "12348            74          4   1797.24             2               3   \n",
              "12349            18          1   1757.55             4               1   \n",
              "12350           309          1    334.40             1               1   \n",
              "12352            35         11   1545.41             3               5   \n",
              "...             ...        ...       ...           ...             ...   \n",
              "18280           277          1    180.60             1               2   \n",
              "18281           180          1     80.82             1               2   \n",
              "18282             7          3    176.60             5               3   \n",
              "18283             3         16   2045.53             5               5   \n",
              "18287            42          3   1837.28             3               3   \n",
              "\n",
              "           Monetary_Score RFM_Score          Segment  \n",
              "CustomerID                                            \n",
              "12347                   5       545        Champions  \n",
              "12348                   4       234          At risk  \n",
              "12349                   4       414   Good Potential  \n",
              "12350                   2       112      Hibernating  \n",
              "12352                   4       354  Loyal Customers  \n",
              "...                   ...       ...              ...  \n",
              "18280                   1       121      Hibernating  \n",
              "18281                   1       121      Hibernating  \n",
              "18282                   1       531   Good Potential  \n",
              "18283                   5       555        Champions  \n",
              "18287                   4       334   Need Attention  \n",
              "\n",
              "[4320 rows x 8 columns]"
            ]
          },
          "execution_count": 62,
          "metadata": {},
          "output_type": "execute_result"
        }
      ],
      "source": [
        "rfm"
      ]
    },
    {
      "cell_type": "markdown",
      "id": "73adaa15",
      "metadata": {
        "papermill": {
          "duration": 0.037844,
          "end_time": "2023-07-26T07:59:17.035330",
          "exception": false,
          "start_time": "2023-07-26T07:59:16.997486",
          "status": "completed"
        },
        "tags": [],
        "id": "73adaa15"
      },
      "source": [
        "Findings\n",
        "\n",
        "24.1% of our customers are in the hibernation segment and that for customers who have purchased from us a few times and the last time was a long time\n",
        "\n",
        "18.4% of our customers are loyal and usually buys from us\n",
        "\n",
        "14.8% of our customers are champions so we are their favourtie market\n",
        "\n",
        "14.4% of our customers have good potential that refers to customers who have bought from us recently and have not buy many times\n",
        "\n",
        "14.1% of our cutomeers are at risk segment so we must attract them again\n",
        "\n",
        "8.4% of our customers are about to sleep and this segment of customers who last purchase from us for a fairly long time\n",
        "\n",
        "4.2% of our customers are needing more attention to make them fall under Champions segment\n",
        "\n",
        "1.6% of our customers can`t lost them and they purchased from us many times but last time was for a long time\n"
      ]
    },
    {
      "cell_type": "code",
      "execution_count": null,
      "id": "4ab50f61",
      "metadata": {
        "papermill": {
          "duration": 0.035458,
          "end_time": "2023-07-26T07:59:17.107041",
          "exception": false,
          "start_time": "2023-07-26T07:59:17.071583",
          "status": "completed"
        },
        "tags": [],
        "id": "4ab50f61"
      },
      "outputs": [],
      "source": []
    }
  ],
  "metadata": {
    "kernelspec": {
      "display_name": "Python 3",
      "language": "python",
      "name": "python3"
    },
    "language_info": {
      "codemirror_mode": {
        "name": "ipython",
        "version": 3
      },
      "file_extension": ".py",
      "mimetype": "text/x-python",
      "name": "python",
      "nbconvert_exporter": "python",
      "pygments_lexer": "ipython3",
      "version": "3.10.12"
    },
    "papermill": {
      "default_parameters": {},
      "duration": 85.89791,
      "end_time": "2023-07-26T07:59:18.867858",
      "environment_variables": {},
      "exception": null,
      "input_path": "__notebook__.ipynb",
      "output_path": "__notebook__.ipynb",
      "parameters": {},
      "start_time": "2023-07-26T07:57:52.969948",
      "version": "2.4.0"
    },
    "colab": {
      "provenance": []
    }
  },
  "nbformat": 4,
  "nbformat_minor": 5
}