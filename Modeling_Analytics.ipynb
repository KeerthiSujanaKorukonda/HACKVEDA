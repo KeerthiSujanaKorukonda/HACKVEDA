{
  "nbformat": 4,
  "nbformat_minor": 0,
  "metadata": {
    "colab": {
      "provenance": []
    },
    "kernelspec": {
      "name": "python3",
      "display_name": "Python 3"
    },
    "language_info": {
      "name": "python"
    }
  },
  "cells": [
    {
      "cell_type": "code",
      "execution_count": null,
      "metadata": {
        "colab": {
          "base_uri": "https://localhost:8080/"
        },
        "id": "MN-yPVFK_pkk",
        "outputId": "f59d2969-1996-4c4e-d806-194429fe359c"
      },
      "outputs": [
        {
          "output_type": "stream",
          "name": "stdout",
          "text": [
            "Enter current time (hours): 8\n",
            "Predicted location: (0, 0) (Home)\n"
          ]
        }
      ],
      "source": [
        "locations = {\n",
        "    \"Home\": (0, 0),\n",
        "    \"Work\": (5, 10),\n",
        "    \"Store\": (2, 5),\n",
        "    \"Restaurant\": (8, 7),\n",
        "}\n",
        "\n",
        "current_time = 8\n",
        "\n",
        "def predict_location(time):\n",
        "  \"\"\"\n",
        "  Simulates location prediction based on time of day.\n",
        "\n",
        "  Args:\n",
        "      time: Current time (hours)\n",
        "\n",
        "  Returns:\n",
        "      Predicted location as a string.\n",
        "  \"\"\"\n",
        "  if 7 <= time < 9:  # Morning hours\n",
        "    return \"Home\"\n",
        "  elif 9 <= time < 17:  # Work hours\n",
        "    return \"Work\"\n",
        "  elif 17 <= time < 20:  # Evening hours (likely going out)\n",
        "    if random.random() < 0.7:  # 70% chance of going to store\n",
        "      return \"Store\"\n",
        "    else:\n",
        "      return \"Restaurant\"\n",
        "  else:  # Night hours\n",
        "    return \"Home\"\n",
        "\n",
        "# Get user input for current time (example)\n",
        "user_time = int(input(\"Enter current time (hours): \"))\n",
        "\n",
        "# Predict location\n",
        "predicted_location = predict_location(user_time)\n",
        "\n",
        "# Display result\n",
        "print(f\"Predicted location: {locations[predicted_location]} ({predicted_location})\")\n"
      ]
    },
    {
      "cell_type": "code",
      "source": [
        "import datetime\n",
        "\n",
        "current_time = datetime.datetime.now()\n",
        "weekday = current_time.weekday()  # 0 = Monday, 1 = Tuesday, ..., 6 = Sunday\n",
        "current_hour = current_time.hour\n",
        "\n",
        "# Prediction algorithm based on day type (weekday vs weekend)\n",
        "def predict_location_based_on_day_type(person, hour, is_weekday):\n",
        "    if is_weekday:\n",
        "        if person == \"A\":\n",
        "            if hour < 8:\n",
        "                return \"Home\"\n",
        "            elif 8 <= hour < 17:\n",
        "                return \"Work in City Y\"\n",
        "            else:\n",
        "                return \"Home\"\n",
        "        elif person == \"B\":\n",
        "            if hour < 8:\n",
        "                return \"Home\"\n",
        "            elif 8 <= hour < 17:\n",
        "                return \"Downtown\"\n",
        "            else:\n",
        "                return \"Home\"\n",
        "        elif person == \"C\":\n",
        "            if hour < 8:\n",
        "                return \"Home\"\n",
        "            elif 8 <= hour < 15:\n",
        "                return \"School Q\"\n",
        "            else:\n",
        "                return \"Home\"\n",
        "    else:  # Weekend\n",
        "        if person == \"A\":\n",
        "            return \"Relaxing at Home\"\n",
        "        elif person == \"B\":\n",
        "            return \"Weekend Trip\"\n",
        "        elif person == \"C\":\n",
        "            return \"Hanging out with friends\"\n",
        "\n",
        "# Prompt user to enter input\n",
        "person = input(\"Enter the person (A, B, or C): \")\n",
        "hour = int(input(\"Enter the current hour (0-23): \"))\n",
        "day_type = input(\"Enter the day type (weekday or weekend): \")\n",
        "\n",
        "# Convert day type input to boolean\n",
        "is_weekday = True if day_type.lower() == \"weekday\" else False\n",
        "\n",
        "# Predict future location based on user input\n",
        "predicted_location = predict_location_based_on_day_type(person.upper(), hour, is_weekday)\n",
        "\n",
        "# Output prediction\n",
        "print(\"Predicted location for Person\", person.upper(), \":\", predicted_location)\n"
      ],
      "metadata": {
        "colab": {
          "base_uri": "https://localhost:8080/"
        },
        "id": "FIZsoKLaAD6w",
        "outputId": "48c24244-1200-40d9-b4d5-e8b73646bf84"
      },
      "execution_count": null,
      "outputs": [
        {
          "output_type": "stream",
          "name": "stdout",
          "text": [
            "Enter the person (A, B, or C): B\n",
            "Enter the current hour (0-23): 5\n",
            "Enter the day type (weekday or weekend): weekday\n",
            "Predicted location for Person B : Home\n"
          ]
        }
      ]
    },
    {
      "cell_type": "code",
      "source": [
        "locations = {\n",
        "  \"Home\": (0, 0),  # Coordinates (optional)\n",
        "  \"Park\": (7, 3),\n",
        "  \"Gym\": (3, 12),\n",
        "  \"Store\": (2, 5),\n",
        "}\n",
        "\n",
        "def predict_location(weather):\n",
        "  \"\"\"\n",
        "  Predicts location based on the current weather.\n",
        "\n",
        "  Args:\n",
        "      weather: String representing current weather (Sunny, Rainy, Snowy)\n",
        "\n",
        "  Returns:\n",
        "      Predicted location as a string.\n",
        "  \"\"\"\n",
        "  if weather == \"Sunny\":\n",
        "    return random.choice([\"Park\", \"Gym\"])  # More outdoor activity on sunny days\n",
        "  elif weather == \"Rainy\":\n",
        "    return \"Gym\"  # More likely to go to the gym if raining\n",
        "  else:\n",
        "    return \"Home\"  # Likely to stay home if snowy\n",
        "\n",
        "# Get user input for weather\n",
        "weather = input(\"Enter current weather (Sunny, Rainy, Snowy): \").lower()\n",
        "\n",
        "# Predict location\n",
        "predicted_location = predict_location(weather)\n",
        "\n",
        "# Display result\n",
        "print(f\"Predicted location: {predicted_location} ({locations.get(predicted_location, 'N/A')})\")\n"
      ],
      "metadata": {
        "colab": {
          "base_uri": "https://localhost:8080/"
        },
        "id": "62EaFnZEBN8N",
        "outputId": "484cd1cf-5525-4314-c0f7-2872261e6ccf"
      },
      "execution_count": null,
      "outputs": [
        {
          "output_type": "stream",
          "name": "stdout",
          "text": [
            "Enter current weather (Sunny, Rainy, Snowy): SNOWY\n",
            "Predicted location: Home ((0, 0))\n"
          ]
        }
      ]
    }
  ]
}